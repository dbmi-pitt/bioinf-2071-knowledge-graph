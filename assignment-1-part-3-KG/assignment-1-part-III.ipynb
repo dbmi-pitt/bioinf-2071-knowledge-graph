{
 "cells": [
  {
   "cell_type": "markdown",
   "metadata": {},
   "source": [
    "### Assignment 1 Part III - KG searching, weighting, and embedding\n",
    "\n",
    "**Overview:** In this notebook, you will learn how to a couple of different ways search to through a large knowledge graph, how to reweight the knowledge graph to favor specific paths, and how to embed nodes in the knowledge graph to try and fill in gaps.   "
   ]
  },
  {
   "cell_type": "markdown",
   "metadata": {},
   "source": [
    "#### Part I - a couple of different ways search to through a large knowledge graph"
   ]
  },
  {
   "cell_type": "markdown",
   "metadata": {},
   "source": [
    "These first cells simply set up some variables that will be used below"
   ]
  },
  {
   "cell_type": "markdown",
   "metadata": {},
   "source": [
    "TODO: get username from the Jupyter and put that in the path"
   ]
  },
  {
   "cell_type": "code",
   "execution_count": 45,
   "metadata": {},
   "outputs": [],
   "source": [
    "import sys\n",
    "sys.path.append('/ihome/rboyce/rdb20/.conda/envs/bionf2071/lib/python3.7/site-packages/')"
   ]
  },
  {
   "cell_type": "code",
   "execution_count": 46,
   "metadata": {},
   "outputs": [],
   "source": [
    "# There can be many paths of the same length so you can adjust how many you want returned\n",
    "maxNumPaths = 5"
   ]
  },
  {
   "cell_type": "markdown",
   "metadata": {},
   "source": [
    "You can populate the list in the next cell with the start and end nodes that you will use to search for paths in the knowledge graph. The [PheKnowLator overview](https://user-images.githubusercontent.com/8030363/103158881-11813b00-4780-11eb-8b45-5063765e7645.png) shows all of the ontologies loaded into the knowledge graph as orange boxes. You can replace the start and end nodes with entities that interest you in those ontologies by going to [Ontobee](http://www.ontobee.org/) and obtaining the URIs and then replacing the start and end node pairs in the s_o_tpl_L list. Be sure to set FIRST_TO_PROCESS to the first pair. If you have to restart the knowledge graph searches shown later, you can change that variable."
   ]
  },
  {
   "cell_type": "code",
   "execution_count": 3,
   "metadata": {},
   "outputs": [],
   "source": [
    "s_o_tpl_L = [\n",
    "    (\"http://purl.obolibrary.org/obo/HP_0000716\",\"http://purl.obolibrary.org/obo/DOID_680\"),\n",
    "    (\"http://purl.obolibrary.org/obo/HP_0000716\",\"http://purl.obolibrary.org/obo/HP_0001297\"),\n",
    "    (\"http://purl.obolibrary.org/obo/HP_0000716\",\"http://purl.obolibrary.org/obo/HP_0001635\"),\n",
    "    (\"http://purl.obolibrary.org/obo/HP_0000716\",\"http://purl.obolibrary.org/obo/HP_0002383\"),\n",
    "    (\"http://purl.obolibrary.org/obo/HP_0000716\",\"http://purl.obolibrary.org/obo/HP_0002621\")\n",
    "]\n",
    "## Leave as None unless you have to restart this cell before it has completely processed all tuples.\n",
    "## Otherwise, replace this tuple with the first tuple to process completely by the program \n",
    "FIRST_TO_PROCESS =  (\"http://purl.obolibrary.org/obo/HP_0000716\",\"http://purl.obolibrary.org/obo/DOID_680\")"
   ]
  },
  {
   "cell_type": "markdown",
   "metadata": {},
   "source": [
    "The libraries needed to import the graph and work with it"
   ]
  },
  {
   "cell_type": "code",
   "execution_count": 4,
   "metadata": {},
   "outputs": [],
   "source": [
    "import os\n",
    "import os.path\n",
    "import networkx as nx\n",
    "import json\n",
    "import urllib\n",
    "import traceback\n",
    "import sys\n",
    "from itertools import islice\n",
    "from rdflib import Graph, URIRef, BNode, Namespace, Literal\n",
    "from rdflib.namespace import RDF, OWL\n",
    "import smart_open\n",
    "from node2vec import Node2Vec"
   ]
  },
  {
   "cell_type": "markdown",
   "metadata": {},
   "source": [
    "The next two cell are the graph loading step. The graph is the output of the PheKnowLator process including filtering out OWL semantics. The sources used in this version of the knowledge graph are listed on [this Wiki page](https://github.com/callahantiff/PheKnowLator/wiki/v2-Data-Sources). The graph takes more than 15 gigs of RAM once loaded."
   ]
  },
  {
   "cell_type": "code",
   "execution_count": 5,
   "metadata": {},
   "outputs": [],
   "source": [
    "GRAPHPATH = \"PheKnowLator_full_InverseRelations_NotClosed_OWLNETS_Networkx_MultiDiGraph_REWEIGHT_NO_DISJOINT.gpickle\""
   ]
  },
  {
   "cell_type": "code",
   "execution_count": 6,
   "metadata": {},
   "outputs": [],
   "source": [
    "# Reloading the graph produced from the PheKnowLator workflow\n",
    "# The graph \n",
    "nx_mdg = nx.read_gpickle(GRAPHPATH)"
   ]
  },
  {
   "cell_type": "markdown",
   "metadata": {},
   "source": [
    "The next cell defines several functions that will help to explain the results of path searches."
   ]
  },
  {
   "cell_type": "code",
   "execution_count": 7,
   "metadata": {},
   "outputs": [],
   "source": [
    "ontobee_service = \"http://sparql.hegroup.org/sparql/\"\n",
    "\n",
    "\n",
    "def query(q,epr,f='application/sparql-results+json'):\n",
    "    \"\"\"Function that uses urllib/urllib2 to issue a SPARQL query.\n",
    "       By default it requests json as data format for the SPARQL resultset\"\"\"\n",
    "\n",
    "    try:\n",
    "        params = {'query': q}\n",
    "        params = urllib.parse.urlencode(params)\n",
    "        opener = urllib.request.build_opener(urllib.request.HTTPHandler)\n",
    "        request = urllib.request.Request(epr+'?'+params)\n",
    "        request.add_header('Accept', f)\n",
    "        request.get_method = lambda: 'GET'\n",
    "        url = opener.open(request)\n",
    "        return url.read()\n",
    "    except Exception as e:\n",
    "        traceback.print_exc(file=sys.stdout)\n",
    "        raise e\n",
    "\n",
    "\n",
    "def pathQuery(pth):\n",
    "    \"\"\"Given a single path (list of rdflib objects), run a sparql query to retrieve descriptive information \n",
    "       that will help construct a narrative explanation\"\"\"\n",
    "    \n",
    "    uriL = [x.toPython() for x in filter(lambda x: type(x) == URIRef, pth)]\n",
    "    subjectStr = ''\n",
    "    objectStr = ''\n",
    "    for uri in uriL:\n",
    "        subjectStr = subjectStr + '?s = <' + uri + '> || '\n",
    "        objectStr = objectStr + '?o = <' + uri + '> || '\n",
    "    subjectStr = subjectStr[:-3] # ?s = <..> || ?s = <...>... the URIs for the subject/object entities in the path\n",
    "    objectStr = objectStr[:-3] # ?o = <..> || ?o = <...>... the URIs for the subject/object entities in the path\n",
    "   \n",
    "    q = '''\n",
    "  prefix obo:<http://purl.obolibrary.org/obo/>\n",
    "  prefix owl:<http://www.w3.org/2002/07/owl#>\n",
    " \n",
    "  select distinct ?s ?p ?o ?p_lab ?s_lab_eg ?o_lab_eg\n",
    "  from <http://phenowlator_merged.owl>\n",
    "  from <ro_with_imports_AD_mods>\n",
    "  where {{\n",
    "    ?s ?p ?o.FILTER(({}) && ({})) \n",
    "    OPTIONAL{{\n",
    "     ?p rdfs:label ?p_lab.\n",
    "   }}\n",
    "   OPTIONAL{{\n",
    "     ?egM_s <http://dikb.org/ad#obo_mapping> ?s.\n",
    "     ?egM_s rdfs:label ?s_lab_eg.\n",
    "   }}\n",
    "   OPTIONAL{{\n",
    "     ?egM_o <http://dikb.org/ad#obo_mapping> ?o.\n",
    "     ?egM_o rdfs:label ?o_lab_eg.\n",
    "   }}\n",
    "  }}\n",
    "'''.format(subjectStr,objectStr)\n",
    "    \n",
    "    return q\n",
    "\n",
    "\n",
    "def missingLabelQuery(uri, endpoint):\n",
    "    query_string = '''\n",
    "SELECT distinct ?lab\n",
    "WHERE {{ \n",
    " <{}> rdfs:label ?lab. \n",
    "}}\n",
    "'''.format(uri)\n",
    "    json_string = query(query_string, endpoint)\n",
    "    resultset = json.loads(json_string)\n",
    "    rsltsD = {}\n",
    "    for b in resultset[\"results\"][\"bindings\"]:\n",
    "        if not b.get('lab'):\n",
    "            return None\n",
    "        \n",
    "        label = b['lab']['value']\n",
    "        if label:\n",
    "            return label\n",
    "        else:\n",
    "            return None\n",
    "\n",
    "def constructPathNarData(pth, sparql_service, debug=False):\n",
    "    \"\"\" Iterate through the path to organize a narrative\n",
    "        in: pth - a list of rdflib URIRef and BNode objects\n",
    "        in: sparql_service - URL to the sparql endpoint\n",
    "    \"\"\"\n",
    "    query_string = pathQuery(pth)\n",
    "    if debug:\n",
    "        print('[DEBUG] Query:\\n' + query_string)\n",
    "        \n",
    "    json_string = query(query_string, pheknowlator_service)\n",
    "    resultset = json.loads(json_string)\n",
    "    print(\"[INFO] Number of results: \" + str(len(resultset[\"results\"][\"bindings\"])))\n",
    "    \n",
    "    # Re-organize the results set to be a dict keyed by the subject uri\n",
    "    rsltsD = {}\n",
    "    for b in resultset[\"results\"][\"bindings\"]:\n",
    "        s = b['s']['value']\n",
    "        if rsltsD.get(s):\n",
    "            rsltsD[s].append(b)\n",
    "        else:\n",
    "            rsltsD[s] = [b]\n",
    "    \n",
    "    narrative = \"\"     \n",
    "    for i in range(0,len(pth)):\n",
    "        if i == len(pth) - 1:\n",
    "            break\n",
    "        \n",
    "        n1 = pth[i]\n",
    "        n2 = pth[i+1]\n",
    "    \n",
    "        if not (type(n1) == URIRef and type(n2) == URIRef):\n",
    "            narrative += \"----- BLANK NODE STEP ----\"\n",
    "            continue\n",
    "        else:\n",
    "            # locate the results dict that relates n1 to n2 in a subject, predicate, object triple\n",
    "            o_d = None\n",
    "            for d in rsltsD.get(n1.toPython()):\n",
    "                if d['o']['value'] == n2.toPython():\n",
    "                    o_d = d\n",
    "                    break\n",
    "        \n",
    "            if not o_d:\n",
    "                print(\"ERROR: Unable to find a triple relating {} to {} in path {}\".format(n1.toPython(),n2.toPython(),pth))\n",
    "            else:\n",
    "                o_lab = '<no label found>'\n",
    "                o_node_id = o_d['o']['value'].split('/')[-1]\n",
    "                if nodeLabD.get(o_node_id):\n",
    "                    o_lab = nodeLabD[o_node_id]\n",
    "                else:\n",
    "                    if label_cache.get(o_d['o']['value']):\n",
    "                        o_lab = label_cache[o_d['o']['value']]\n",
    "                    else:\n",
    "                        ql = missingLabelQuery(o_d['o']['value'],ontobee_service)\n",
    "                        if ql:\n",
    "                            label_cache[o_d['o']['value']] = ql\n",
    "                            o_lab = ql\n",
    "                    \n",
    "                    if o_lab == '<no label found>' and o_d.get('o_lab_eg'):\n",
    "                        o_lab = o_d['o_lab_eg']['value'] + ' (UMLS label)'\n",
    "\n",
    "                s_lab = '<no label found>'\n",
    "                s_node_id = o_d['s']['value'].split('/')[-1]\n",
    "                if nodeLabD.get(s_node_id):\n",
    "                    s_lab = nodeLabD[s_node_id]\n",
    "                else:\n",
    "                    if label_cache.get(o_d['s']['value']):\n",
    "                        s_lab = label_cache[o_d['s']['value']]\n",
    "                    else:\n",
    "                        ql = missingLabelQuery(o_d['s']['value'],ontobee_service)\n",
    "                        if ql:\n",
    "                            label_cache[o_d['s']['value']] = ql\n",
    "                            s_lab = ql  \n",
    "                    \n",
    "                    if s_lab == '<no label found>' and o_d.get('s_lab_eg'):\n",
    "                        s_lab = o_d['s_lab_eg']['value'] + ' (UMLS label)'\n",
    "\n",
    "                if o_d.get('p_lab'):                      \n",
    "                    narrative += '{}\\t{}\\t{}\\t{}\\t{}\\t{}\\n'.format(\n",
    "                            s_lab,o_d['p_lab']['value'],o_lab,\n",
    "                            o_d['s']['value'],o_d['p']['value'],o_d['o']['value']\n",
    "                           )                          \n",
    "                else:\n",
    "                    narrative += '{}\\t{}\\t{}\\t{}\\t{}\\t{}\\n'.format(\n",
    "                            s_lab,o_d['p']['value'].replace('http://www.w3.org/2000/01/rdf-schema#',''),o_lab,\n",
    "                            o_d['s']['value'],o_d['p']['value'],o_d['o']['value']\n",
    "                           )                                          \n",
    "    return narrative"
   ]
  },
  {
   "cell_type": "markdown",
   "metadata": {},
   "source": [
    "The next cell loads a file that has all of the node labels which were stripped from the graph when OWL semantics were removed."
   ]
  },
  {
   "cell_type": "code",
   "execution_count": 8,
   "metadata": {},
   "outputs": [],
   "source": [
    "nodeLabD = {}\n",
    "f = open('PheKnowLator_full_InverseRelations_NotClosed_NoOWLSemantics_NodeLabels.txt','r')\n",
    "buf = f.read()\n",
    "f.close()\n",
    "nodLabL = buf.split('\\n')\n",
    "for line in nodLabL:\n",
    "    spL = line.split('\\t')\n",
    "    if len(spL) > 1:\n",
    "        nodeLabD[spL[0]] = spL[1]"
   ]
  },
  {
   "cell_type": "markdown",
   "metadata": {},
   "source": [
    "This function conducts a shortest path search given a graph source and target k results are returned"
   ]
  },
  {
   "cell_type": "code",
   "execution_count": 9,
   "metadata": {},
   "outputs": [],
   "source": [
    "def k_shortest_paths(G, source, target, k, weight='weight'):\n",
    "    return list(islice(nx.all_shortest_paths(G, source, target, weight=weight), k))"
   ]
  },
  {
   "cell_type": "markdown",
   "metadata": {},
   "source": [
    "This function conducts the simple path searches given a graph source and target and an integers with the shortest path length known \n",
    "The shortest path lengths is used so that already seen simple paths are not returned\n",
    "k results are returned"
   ]
  },
  {
   "cell_type": "code",
   "execution_count": 10,
   "metadata": {},
   "outputs": [],
   "source": [
    "def k_simple_paths(G, source, target, k, shortestLen):\n",
    "    paths = nx.all_simple_paths(G, source, target, cutoff=shortestLen+20)\n",
    "    path_l = []\n",
    "    i = 0\n",
    "    while i < k:\n",
    "        try:\n",
    "            print('[info] applying next operator to search for a simple path of max length {}'.format(shortestLen+20))\n",
    "            path = next(paths)\n",
    "        except StopIteration:\n",
    "            break\n",
    "        print('[info] Simple path found of length {}'.format(len(path))) \n",
    "        if len(path) > shortestLen:\n",
    "            print('[info] Simple path length greater than shortest path length ({}) so adding to results'.format(shortestLen))\n",
    "            path_l.append(path)\n",
    "        i += 1\n",
    "    return path_l      "
   ]
  },
  {
   "cell_type": "code",
   "execution_count": 11,
   "metadata": {},
   "outputs": [],
   "source": [
    "# This is the endpoint where an RDF version of the PheKnowLator graph resides\n",
    "pheknowlator_service = \"https://dbmi-icode-01.dbmi.pitt.edu/sparql\""
   ]
  },
  {
   "cell_type": "code",
   "execution_count": null,
   "metadata": {},
   "outputs": [],
   "source": [
    "# There can be allot of repetition when doing certain search patterns (e.g., confounders) so set up a cache \n",
    "processed_tpl_cache = []\n",
    "# queried label cache\n",
    "label_cache = {}"
   ]
  },
  {
   "cell_type": "markdown",
   "metadata": {},
   "source": [
    "The next cell conducts the shortest path searches"
   ]
  },
  {
   "cell_type": "code",
   "execution_count": null,
   "metadata": {},
   "outputs": [],
   "source": [
    "shortestPathsLens = [] # we track the shortest paths from source to target for when we do simple path searches\n",
    "for tpl in s_o_tpl_L:      \n",
    "    if FIRST_TO_PROCESS:\n",
    "        if str(tpl) != str(FIRST_TO_PROCESS):\n",
    "            print('INFO: skipping tuple because it is not FIRST_TO_PROCESS:' + str(tpl))\n",
    "            continue\n",
    "        else:\n",
    "            FIRST_TO_PROCESS = None\n",
    "    \n",
    "    (s,o) = tpl    \n",
    "    startNd = URIRef(s) \n",
    "    endNd = URIRef(o) \n",
    "       \n",
    "    print('INFO: Processing {} and {}:\\n'.format(s,o))\n",
    "                \n",
    "    try:\n",
    "        pthL = k_shortest_paths(nx_mdg,startNd,endNd,maxNumPaths)\n",
    "    except nx.NetworkXNoPath:\n",
    "        print('INFO: No results in the path search.\\n')\n",
    "        continue\n",
    "    except nx.NodeNotFound:\n",
    "        print('INFO: The source node does not exist in the Knowledge Graph.\\n')\n",
    "        continue\n",
    "\n",
    "    narL = []\n",
    "    c = -1\n",
    "    for path in pthL:\n",
    "        if c == -1:\n",
    "            shortestPathsLens.append(len(path))\n",
    "            \n",
    "        c += 1\n",
    "        nar = constructPathNarData(path,pheknowlator_service,debug=False)\n",
    "        print('\\n\\nINFO: SHORTEST PATH {}:\\n'.format(c))\n",
    "        print(nar)\n",
    "        print('\\n\\n')"
   ]
  },
  {
   "cell_type": "markdown",
   "metadata": {},
   "source": [
    "The next cell conducts the simple path searches but in a way to ignores the shortest paths"
   ]
  },
  {
   "cell_type": "code",
   "execution_count": null,
   "metadata": {},
   "outputs": [],
   "source": [
    "maxNumPaths = 3  # we search for fewer paths b/c this can take much longer than the shortest path searches  \n",
    "tplCnt = 0\n",
    "for tpl in s_o_tpl_L:      \n",
    "    if FIRST_TO_PROCESS:\n",
    "        if str(tpl) != str(FIRST_TO_PROCESS):\n",
    "            print('INFO: skipping tuple because it is not FIRST_TO_PROCESS:' + str(tpl))\n",
    "            continue\n",
    "        else:\n",
    "            FIRST_TO_PROCESS = None\n",
    "    \n",
    "    (s,o) = tpl    \n",
    "    startNd = URIRef(s) \n",
    "    endNd = URIRef(o) \n",
    "       \n",
    "    print('INFO: Processing {} and {}:\\n'.format(s,o))\n",
    "                \n",
    "    try:\n",
    "        pthL = k_simple_paths(nx_mdg, startNd, endNd, maxNumPaths, shortestPathsLens[tplCnt])\n",
    "        tplCnt += 1\n",
    "    except nx.NetworkXNoPath:\n",
    "        print('INFO: No results in the path search.\\n')\n",
    "        continue\n",
    "    except nx.NodeNotFound:\n",
    "        print('INFO: The source node does not exist in the Knowledge Graph.\\n')\n",
    "        continue\n",
    "\n",
    "    narL = []\n",
    "    c = -1\n",
    "    for path in pthL:\n",
    "        c += 1\n",
    "        nar = constructPathNarData(path,pheknowlator_service,debug=False)\n",
    "        print('\\n\\nINFO: SIMPLE PATH {}:\\n'.format(c))\n",
    "        print(nar)\n",
    "        print('\\n\\n')"
   ]
  },
  {
   "cell_type": "markdown",
   "metadata": {},
   "source": [
    "**E7** - Questions about path searches\n",
    "\n",
    "1. In part II of Assignment I you saw some SPARQL queries over a small knowledge graph created from predications extracted by machine reading with SemMedDB. In this part of the Assignment I you are working with a much larger and more complex graph constructed using ontologies and several large data sources (go back and review sources used in this version of the knowledge graph are listed on [this Wiki page](https://github.com/callahantiff/PheKnowLator/wiki/v2-Data-Sources)). We could SPARQL for this graph but we are using graph search instead. Make some obervations in your own words about some differences between the two approaches. \n",
    "\n",
    "2. Take a close look at the results of the shortest path searches and make some comments about how potentially factual and useful the path narratives would be for providing a mechanistic explanation of the relationship between the start and end nodes. \n",
    "\n",
    "3. Similar to the previous question, take a close look at the results of the SIMPLE path searches and make some comments about how potentially factual and useful the path narratives would be for providing a mechanistic explanation of the relationship between the start and end nodes. Also, what differences between the simple and shortes path searches stand out to you.\n",
    "\n",
    "4. Do you have any questions for me about what you see?"
   ]
  },
  {
   "cell_type": "markdown",
   "metadata": {},
   "source": [
    "#### Part II - how to reweight the knowledge graph to favor specific paths"
   ]
  },
  {
   "cell_type": "markdown",
   "metadata": {},
   "source": [
    "There are a number of graph metrics that could be use to reweight edges in the graph (see https://networkx.org/documentation/stable/reference/algorithms/centrality.html) Here, we pick a simple measure to calculate called degree centrality."
   ]
  },
  {
   "cell_type": "code",
   "execution_count": null,
   "metadata": {},
   "outputs": [],
   "source": [
    "## obtain a dictionary of node degree centrality for all nodes using the default parameters\n",
    "centrality = nx.degree_centrality(nx_mdg)"
   ]
  },
  {
   "cell_type": "code",
   "execution_count": null,
   "metadata": {},
   "outputs": [],
   "source": [
    "# Using Alzheimer's disease as an example \n",
    "centrality[URIRef('http://purl.obolibrary.org/obo/HP_0002511')]"
   ]
  },
  {
   "cell_type": "code",
   "execution_count": null,
   "metadata": {},
   "outputs": [],
   "source": [
    "# Using Cell as an example\n",
    "centrality[URIRef('http://purl.obolibrary.org/obo/CL_0000000')]"
   ]
  },
  {
   "cell_type": "code",
   "execution_count": null,
   "metadata": {},
   "outputs": [],
   "source": [
    "# We are going to use node degree centrality when reweighting the graph so we need to calculate the measure for all nodes\n",
    "f = open('centrality.tsv','w')\n",
    "f.write('node\\tdegree_centrality\\n')\n",
    "for k,v in centrality.items():\n",
    "    f.write('{}\\t{}\\n'.format(k.toPython(),v))\n",
    "f.close()"
   ]
  },
  {
   "cell_type": "markdown",
   "metadata": {},
   "source": [
    "The next cell creates a new graph  copying and reweighting the current graph using degree centrality"
   ]
  },
  {
   "cell_type": "code",
   "execution_count": null,
   "metadata": {},
   "outputs": [],
   "source": [
    "nx_mdg_cntr = nx.MultiDiGraph()\n",
    "\n",
    "# the reweight graph will remove 'disjoint' and 'domain' predicates  and apply a \n",
    "edge_key = -1 # an int that we will increment to uniquely identify edges\n",
    "for s, o, data in nx_mdg.edges(data=True):\n",
    "    p = data['predicate']\n",
    "    \n",
    "    edge_key += 1\n",
    "    \n",
    "    ## default weight = 2\n",
    "    weight = 2.0\n",
    "    \n",
    "    # Skip disjoint and domain predicates\n",
    "    if p.toPython() == 'http://www.w3.org/2002/07/owl#disjointWith' or p.toPython() == 'http://www.w3.org/2000/01/rdf-schema#domain':\n",
    "        continue    \n",
    "           \n",
    "    # Add to the weight the degree centrality of each node\n",
    "    if centrality.get(p):\n",
    "        weight = weight + centrality[p]\n",
    "    if centrality.get(o):\n",
    "        weight = weight + centrality[o]\n",
    "    \n",
    "    # add the edge to the graph giving it a unique key and weight\n",
    "    nx_mdg_cntr.add_edge(s, o, **{'predicate': p,'key': edge_key, 'weight':weight})"
   ]
  },
  {
   "cell_type": "code",
   "execution_count": null,
   "metadata": {},
   "outputs": [],
   "source": [
    "nx.write_gpickle(nx_mdg_cntr,'PheKnowLator_full_InverseRelations_NotClosed_OWLNETS_DEGREE_CNTRLTY_REWEIGHT_NO_DISJOINT.gpickle')"
   ]
  },
  {
   "cell_type": "markdown",
   "metadata": {},
   "source": [
    "Conduct shortest and simple path searches with the reweighted graph"
   ]
  },
  {
   "cell_type": "code",
   "execution_count": null,
   "metadata": {},
   "outputs": [],
   "source": [
    "maxNumPaths = 3 \n",
    "shortestPathsLens = [] # we track the shortest paths from source to target for when we do simple path searches\n",
    "for tpl in s_o_tpl_L:      \n",
    "    if FIRST_TO_PROCESS:\n",
    "        if str(tpl) != str(FIRST_TO_PROCESS):\n",
    "            print('INFO: skipping tuple because it is not FIRST_TO_PROCESS:' + str(tpl))\n",
    "            continue\n",
    "        else:\n",
    "            FIRST_TO_PROCESS = None\n",
    "    \n",
    "    (s,o) = tpl    \n",
    "    startNd = URIRef(s) \n",
    "    endNd = URIRef(o) \n",
    "       \n",
    "    print('INFO: Processing {} and {}:\\n'.format(s,o))\n",
    "                \n",
    "    try:\n",
    "        pthL = k_shortest_paths(nx_mdg_cntr,startNd,endNd,maxNumPaths)\n",
    "    except nx.NetworkXNoPath:\n",
    "        print('INFO: No results in the path search.\\n')\n",
    "        continue\n",
    "    except nx.NodeNotFound:\n",
    "        print('INFO: The source node does not exist in the Knowledge Graph.\\n')\n",
    "        continue\n",
    "\n",
    "    narL = []\n",
    "    c = -1\n",
    "    for path in pthL:\n",
    "        if c == -1:\n",
    "            shortestPathsLens.append(len(path))\n",
    "            \n",
    "        c += 1\n",
    "        nar = constructPathNarData(path,pheknowlator_service,debug=False)\n",
    "        print('\\n\\nINFO: SHORTEST PATH {}:\\n'.format(c))\n",
    "        print(nar)\n",
    "        print('\\n\\n')"
   ]
  },
  {
   "cell_type": "code",
   "execution_count": null,
   "metadata": {},
   "outputs": [],
   "source": [
    "# Conduct SIMPLE path searches with the reweighted graph\n",
    "maxNumPaths = 3  \n",
    "tplCnt = 0\n",
    "for tpl in s_o_tpl_L:      \n",
    "    if FIRST_TO_PROCESS:\n",
    "        if str(tpl) != str(FIRST_TO_PROCESS):\n",
    "            print('INFO: skipping tuple because it is not FIRST_TO_PROCESS:' + str(tpl))\n",
    "            continue\n",
    "        else:\n",
    "            FIRST_TO_PROCESS = None\n",
    "    \n",
    "    (s,o) = tpl    \n",
    "    startNd = URIRef(s) \n",
    "    endNd = URIRef(o) \n",
    "       \n",
    "    print('INFO: Processing {} and {}:\\n'.format(s,o))\n",
    "                \n",
    "    try:\n",
    "        pthL = k_simple_paths(nx_mdg_cntr, startNd, endNd, maxNumPaths, shortestPathsLens[tplCnt])\n",
    "        tplCnt += 1\n",
    "    except nx.NetworkXNoPath:\n",
    "        print('INFO: No results in the path search.\\n')\n",
    "        continue\n",
    "    except nx.NodeNotFound:\n",
    "        print('INFO: The source node does not exist in the Knowledge Graph.\\n')\n",
    "        continue\n",
    "\n",
    "    narL = []\n",
    "    c = -1\n",
    "    for path in pthL:\n",
    "        c += 1\n",
    "        nar = constructPathNarData(path,pheknowlator_service,debug=False)\n",
    "        print('\\n\\nINFO: SIMPLE PATH {}:\\n'.format(c))\n",
    "        print(nar)\n",
    "        print('\\n\\n')"
   ]
  },
  {
   "cell_type": "markdown",
   "metadata": {},
   "source": [
    "**E8** - questions about graph editing and reweighting\n",
    "\n",
    "1. Think about how degree centrality is being used here to reweight edges in the graph. If the goal is to obtain mechanistically accurate narratives, does using this measure to reweight make sense?\n",
    "\n",
    "2. Imagine that the goal is to avoid the inclusion several 'hub' nodes in path results. Look over the [centrality measures](https://networkx.org/documentation/stable/reference/algorithms/centrality.html) and justify if another which measure(s) might be better than degree centraity to accomplish this task.\n",
    "\n",
    "3. How could you use knowledge about the Relation Ontology to bias path search results to favor certain kinds of nodes (e.g., pathways) over others (e.g., genes) (hint: look at the ontologies and RO entities [here](https://user-images.githubusercontent.com/8030363/103158881-11813b00-4780-11eb-8b45-5063765e7645.png))?\n",
    "\n"
   ]
  },
  {
   "cell_type": "markdown",
   "metadata": {},
   "source": [
    "### Part III - how to embed nodes in the knowledge graph to try and fill in gaps"
   ]
  },
  {
   "cell_type": "markdown",
   "metadata": {},
   "source": [
    "We're going to tackle link prediction as a supervised learning problem on top of node representations/embeddings. The embeddings are computed with the unsupervised node2vec algorithm. After obtaining embeddings, a binary classifier can be used to predict a link, or not, between any two nodes in the graph. Various hyperparameters could be relevant in obtaining the best link classifier -\n",
    "\n",
    "There are four steps:\n",
    "\n",
    "1. Obtain embeddings for each node\n",
    "2. For each set of hyperparameters, train a classifier\n",
    "3. Select the classifier that performs the best\n",
    "4. Evaluate the selected classifier on unseen data to validate its ability to generalise\n",
    "\n",
    "This part of the notebook has been adapted from a demo of the StellarGraph library (https://stellargraph.readthedocs.io/en/stable/index.html) for link prediction using the node2vec algorithm.\n",
    "\n",
    "<a name=\"refs\"></a>\n",
    "**References:** \n",
    "\n",
    "[1] Node2Vec: Scalable Feature Learning for Networks. A. Grover, J. Leskovec. ACM SIGKDD International Conference on Knowledge Discovery and Data Mining (KDD), 2016."
   ]
  },
  {
   "cell_type": "code",
   "execution_count": 53,
   "metadata": {},
   "outputs": [],
   "source": [
    "### First, we derive a simple undirected graph that has only the RO interacts_with and molecularly_interacts_with as predicates (edges)\n",
    "## http://purl.obolibrary.org/obo/RO_0002434 - interacts with\n",
    "## http://purl.obolibrary.org/obo/RO_0002436 - molecularly interacts with\n",
    "##\n",
    "## Note: We limit the graph size to 50,000 nodes (about 1/5th of the interactin graph size) so that embedding \n",
    "## can happen in a relatively short amount of time\n",
    "##\n",
    "nx_mdg_interacts = nx.Graph()\n",
    "\n",
    "# the reweight graph will remove 'disjoint' and 'domain' predicates  and apply a \n",
    "maxNodes = 25000\n",
    "nodeCnt = -1\n",
    "edge_key = -1 # an int that we will increment to uniquely identify edges\n",
    "s_count = 0 # some entitites have a huge number of interactions so we will only sample a max of 100 for any entity\n",
    "s_current = None\n",
    "for s, o, data in nx_mdg.edges(data=True):\n",
    "    if s == s_current:\n",
    "        s_count += 1\n",
    "        if s_count > 100:\n",
    "            continue\n",
    "    else:\n",
    "        s_current = s\n",
    "        s_count = 0 \n",
    "        \n",
    "    p = data['predicate']\n",
    "    \n",
    "    edge_key += 1\n",
    "    \n",
    "    if not (p.toPython() == 'http://purl.obolibrary.org/obo/RO_0002434' or p.toPython() == 'http://purl.obolibrary.org/obo/RO_0002436'):\n",
    "        continue    \n",
    "         \n",
    "    # add the edge to the graph giving it a unique key \n",
    "    nx_mdg_interacts.add_edge(s, o, **{'predicate': p,'key': edge_key})\n",
    "    nodeCnt += 1\n",
    "    if nodeCnt == maxNodes:\n",
    "        break"
   ]
  },
  {
   "cell_type": "code",
   "execution_count": 54,
   "metadata": {},
   "outputs": [],
   "source": [
    "nx.write_gpickle(nx_mdg_interacts,'PheKnowLator_full_InverseRelations_NotClosed_OWLNETS_INTERACTS.gpickle')"
   ]
  },
  {
   "cell_type": "code",
   "execution_count": 12,
   "metadata": {},
   "outputs": [],
   "source": [
    "## Uncomment this to reload the 'interacts only' graph from file if needed\n",
    "# nx_mdg_interacts = nx.read_gpickle('PheKnowLator_full_InverseRelations_NotClosed_OWLNETS_INTERACTS.gpickle')"
   ]
  },
  {
   "cell_type": "code",
   "execution_count": 55,
   "metadata": {},
   "outputs": [
    {
     "name": "stdout",
     "output_type": "stream",
     "text": [
      "Name: \n",
      "Type: Graph\n",
      "Number of nodes: 14521\n",
      "Number of edges: 24918\n",
      "Average degree:   3.4320\n"
     ]
    }
   ],
   "source": [
    "print(nx.info(nx_mdg_interacts))"
   ]
  },
  {
   "cell_type": "code",
   "execution_count": 56,
   "metadata": {},
   "outputs": [
    {
     "name": "stdout",
     "output_type": "stream",
     "text": [
      "(rdflib.term.URIRef('http://purl.obolibrary.org/obo/CHEBI_46024'), 138)\n",
      "(rdflib.term.URIRef('https://uswest.ensembl.org/Homo_sapiens/Transcript/Summary?t=ENST00000607195'), 7)\n",
      "(rdflib.term.URIRef('https://uswest.ensembl.org/Homo_sapiens/Transcript/Summary?t=ENST00000557107'), 5)\n",
      "(rdflib.term.URIRef('http://purl.obolibrary.org/obo/CHEBI_132082'), 115)\n",
      "(rdflib.term.URIRef('http://purl.obolibrary.org/obo/CHEBI_30563'), 50)\n",
      "(rdflib.term.URIRef('http://purl.obolibrary.org/obo/CHEBI_84069'), 11)\n",
      "(rdflib.term.URIRef('http://purl.obolibrary.org/obo/CHEBI_39867'), 209)\n",
      "(rdflib.term.URIRef('http://purl.obolibrary.org/obo/CHEBI_28420'), 110)\n",
      "(rdflib.term.URIRef('http://purl.obolibrary.org/obo/CHEBI_27899'), 167)\n",
      "(rdflib.term.URIRef('http://purl.obolibrary.org/obo/GO_0019825'), 77)\n",
      "(rdflib.term.URIRef('http://purl.obolibrary.org/obo/CHEBI_3766'), 111)\n",
      "(rdflib.term.URIRef('http://purl.obolibrary.org/obo/CHEBI_5831'), 3)\n",
      "(rdflib.term.URIRef('http://purl.obolibrary.org/obo/CHEBI_18358'), 3)\n",
      "(rdflib.term.URIRef('http://purl.obolibrary.org/obo/CHEBI_17578'), 9)\n",
      "(rdflib.term.URIRef('http://purl.obolibrary.org/obo/CHEBI_140310'), 6)\n",
      "(rdflib.term.URIRef('http://purl.obolibrary.org/obo/CHEBI_17823'), 24)\n",
      "(rdflib.term.URIRef('http://purl.obolibrary.org/obo/CHEBI_28499'), 11)\n",
      "(rdflib.term.URIRef('http://purl.obolibrary.org/obo/CHEBI_26407'), 12)\n",
      "(rdflib.term.URIRef('http://purl.obolibrary.org/obo/CHEBI_18388'), 10)\n",
      "(rdflib.term.URIRef('http://purl.obolibrary.org/obo/CHEBI_27881'), 135)\n",
      "(rdflib.term.URIRef('http://purl.obolibrary.org/obo/CHEBI_23965'), 162)\n",
      "(rdflib.term.URIRef('http://purl.obolibrary.org/obo/CHEBI_4917'), 13)\n",
      "(rdflib.term.URIRef('http://purl.obolibrary.org/obo/CHEBI_31206'), 11)\n",
      "(rdflib.term.URIRef('http://purl.obolibrary.org/obo/CHEBI_28593'), 5)\n",
      "(rdflib.term.URIRef('http://purl.obolibrary.org/obo/CHEBI_32195'), 3)\n",
      "(rdflib.term.URIRef('http://purl.obolibrary.org/obo/CHEBI_34757'), 4)\n",
      "(rdflib.term.URIRef('http://purl.obolibrary.org/obo/CHEBI_38102'), 7)\n",
      "(rdflib.term.URIRef('http://purl.obolibrary.org/obo/CHEBI_164200'), 15)\n",
      "(rdflib.term.URIRef('http://purl.obolibrary.org/obo/CHEBI_5063'), 4)\n",
      "(rdflib.term.URIRef('http://purl.obolibrary.org/obo/CHEBI_9665'), 3)\n",
      "(rdflib.term.URIRef('http://purl.obolibrary.org/obo/CHEBI_81781'), 5)\n",
      "(rdflib.term.URIRef('http://purl.obolibrary.org/obo/CHEBI_13390'), 3)\n",
      "(rdflib.term.URIRef('http://purl.obolibrary.org/obo/CHEBI_33566'), 11)\n",
      "(rdflib.term.URIRef('http://purl.obolibrary.org/obo/CHEBI_16136'), 6)\n",
      "(rdflib.term.URIRef('http://purl.obolibrary.org/obo/CHEBI_10033'), 3)\n",
      "(rdflib.term.URIRef('http://purl.obolibrary.org/obo/CHEBI_2663'), 14)\n",
      "(rdflib.term.URIRef('http://purl.obolibrary.org/obo/CHEBI_4630'), 3)\n",
      "(rdflib.term.URIRef('http://purl.obolibrary.org/obo/CHEBI_2979'), 5)\n",
      "(rdflib.term.URIRef('http://purl.obolibrary.org/obo/CHEBI_37149'), 3)\n",
      "(rdflib.term.URIRef('http://purl.obolibrary.org/obo/CHEBI_38298'), 9)\n",
      "(rdflib.term.URIRef('http://purl.obolibrary.org/obo/CHEBI_4325'), 3)\n",
      "(rdflib.term.URIRef('http://purl.obolibrary.org/obo/CHEBI_6842'), 7)\n",
      "(rdflib.term.URIRef('http://purl.obolibrary.org/obo/CHEBI_28775'), 4)\n",
      "(rdflib.term.URIRef('http://purl.obolibrary.org/obo/CHEBI_17263'), 9)\n",
      "(rdflib.term.URIRef('http://purl.obolibrary.org/obo/CHEBI_5001'), 7)\n",
      "(rdflib.term.URIRef('http://purl.obolibrary.org/obo/CHEBI_10106'), 9)\n",
      "(rdflib.term.URIRef('http://purl.obolibrary.org/obo/CHEBI_27386'), 4)\n",
      "(rdflib.term.URIRef('http://purl.obolibrary.org/obo/CHEBI_23086'), 5)\n",
      "(rdflib.term.URIRef('http://purl.obolibrary.org/obo/CHEBI_26961'), 8)\n",
      "(rdflib.term.URIRef('http://purl.obolibrary.org/obo/CHEBI_38261'), 11)\n",
      "(rdflib.term.URIRef('http://purl.obolibrary.org/obo/CHEBI_24536'), 5)\n",
      "(rdflib.term.URIRef('http://purl.obolibrary.org/obo/CHEBI_3387'), 137)\n",
      "(rdflib.term.URIRef('http://purl.obolibrary.org/obo/CHEBI_47781'), 3)\n",
      "(rdflib.term.URIRef('http://purl.obolibrary.org/obo/CHEBI_50122'), 18)\n",
      "(rdflib.term.URIRef('http://purl.obolibrary.org/obo/CHEBI_17351'), 4)\n",
      "(rdflib.term.URIRef('http://purl.obolibrary.org/obo/CHEBI_33572'), 5)\n",
      "(rdflib.term.URIRef('http://purl.obolibrary.org/obo/CHEBI_17594'), 8)\n",
      "(rdflib.term.URIRef('http://purl.obolibrary.org/obo/CHEBI_50123'), 116)\n",
      "(rdflib.term.URIRef('http://purl.obolibrary.org/obo/CHEBI_38757'), 17)\n",
      "(rdflib.term.URIRef('http://purl.obolibrary.org/obo/CHEBI_22715'), 13)\n",
      "(rdflib.term.URIRef('http://purl.obolibrary.org/obo/CHEBI_38845'), 3)\n",
      "(rdflib.term.URIRef('http://purl.obolibrary.org/obo/CHEBI_34911'), 7)\n",
      "(rdflib.term.URIRef('http://purl.obolibrary.org/obo/CHEBI_29678'), 157)\n",
      "(rdflib.term.URIRef('http://purl.obolibrary.org/obo/CHEBI_24922'), 11)\n",
      "(rdflib.term.URIRef('http://purl.obolibrary.org/obo/CHEBI_35549'), 11)\n",
      "(rdflib.term.URIRef('http://purl.obolibrary.org/obo/CHEBI_3764'), 3)\n",
      "(rdflib.term.URIRef('http://purl.obolibrary.org/obo/GO_0043406'), 5)\n",
      "(rdflib.term.URIRef('http://purl.obolibrary.org/obo/GO_0044422'), 4)\n",
      "(rdflib.term.URIRef('http://purl.obolibrary.org/obo/GO_0006355'), 6)\n",
      "(rdflib.term.URIRef('http://purl.obolibrary.org/obo/GO_0042136'), 4)\n",
      "(rdflib.term.URIRef('http://purl.obolibrary.org/obo/GO_0048583'), 9)\n",
      "(rdflib.term.URIRef('http://purl.obolibrary.org/obo/GO_0043067'), 7)\n",
      "(rdflib.term.URIRef('http://purl.obolibrary.org/obo/GO_0050727'), 4)\n",
      "(rdflib.term.URIRef('http://purl.obolibrary.org/obo/GO_0032269'), 4)\n",
      "(rdflib.term.URIRef('http://purl.obolibrary.org/obo/GO_2001141'), 4)\n",
      "(rdflib.term.URIRef('http://purl.obolibrary.org/obo/GO_0005783'), 30)\n",
      "(rdflib.term.URIRef('http://purl.obolibrary.org/obo/GO_0043207'), 6)\n",
      "(rdflib.term.URIRef('http://purl.obolibrary.org/obo/PR_O75469'), 94)\n",
      "(rdflib.term.URIRef('http://purl.obolibrary.org/obo/GO_1901342'), 4)\n",
      "(rdflib.term.URIRef('http://purl.obolibrary.org/obo/GO_0008284'), 4)\n",
      "(rdflib.term.URIRef('http://purl.obolibrary.org/obo/GO_0044446'), 5)\n",
      "(rdflib.term.URIRef('http://purl.obolibrary.org/obo/GO_0045935'), 100)\n",
      "(rdflib.term.URIRef('http://purl.obolibrary.org/obo/GO_0010720'), 5)\n",
      "(rdflib.term.URIRef('http://purl.obolibrary.org/obo/GO_0098657'), 3)\n",
      "(rdflib.term.URIRef('http://purl.obolibrary.org/obo/GO_0034654'), 3)\n",
      "(rdflib.term.URIRef('http://purl.obolibrary.org/obo/GO_0009896'), 4)\n",
      "(rdflib.term.URIRef('http://purl.obolibrary.org/obo/GO_0010557'), 5)\n",
      "(rdflib.term.URIRef('http://purl.obolibrary.org/obo/GO_0002520'), 5)\n",
      "(rdflib.term.URIRef('http://purl.obolibrary.org/obo/GO_0031224'), 3)\n",
      "(rdflib.term.URIRef('http://purl.obolibrary.org/obo/GO_0009893'), 8)\n",
      "(rdflib.term.URIRef('http://purl.obolibrary.org/obo/GO_0003013'), 4)\n",
      "(rdflib.term.URIRef('http://purl.obolibrary.org/obo/GO_0019693'), 3)\n",
      "(rdflib.term.URIRef('http://purl.obolibrary.org/obo/GO_0022402'), 107)\n",
      "(rdflib.term.URIRef('https://uswest.ensembl.org/Homo_sapiens/Transcript/Summary?t=ENST00000636171'), 3)\n",
      "(rdflib.term.URIRef('http://purl.obolibrary.org/obo/GO_0007169'), 4)\n",
      "(rdflib.term.URIRef('http://purl.obolibrary.org/obo/GO_0006139'), 4)\n",
      "(rdflib.term.URIRef('http://purl.obolibrary.org/obo/GO_0031324'), 4)\n",
      "(rdflib.term.URIRef('http://purl.obolibrary.org/obo/GO_0046983'), 3)\n",
      "(rdflib.term.URIRef('http://purl.obolibrary.org/obo/GO_0006468'), 3)\n",
      "(rdflib.term.URIRef('https://uswest.ensembl.org/Homo_sapiens/Transcript/Summary?t=ENST00000425941'), 25)\n"
     ]
    }
   ],
   "source": [
    "i = 0 \n",
    "for d in nx_mdg_interacts.degree():\n",
    "    if d[1] > 2:        \n",
    "        print(d)\n",
    "        i += 1\n",
    "        if i == 100:\n",
    "            break"
   ]
  },
  {
   "cell_type": "code",
   "execution_count": 59,
   "metadata": {},
   "outputs": [
    {
     "name": "stdout",
     "output_type": "stream",
     "text": [
      "http://purl.obolibrary.org/obo/CHEBI_46024\thttps://uswest.ensembl.org/Homo_sapiens/Transcript/Summary?t=ENST00000607195\t{'predicate': rdflib.term.URIRef('http://purl.obolibrary.org/obo/RO_0002434'), 'key': 142}\n",
      "http://purl.obolibrary.org/obo/CHEBI_46024\thttps://uswest.ensembl.org/Homo_sapiens/Transcript/Summary?t=ENST00000557107\t{'predicate': rdflib.term.URIRef('http://purl.obolibrary.org/obo/RO_0002434'), 'key': 5230}\n",
      "http://purl.obolibrary.org/obo/CHEBI_46024\thttps://uswest.ensembl.org/Homo_sapiens/Transcript/Summary?t=ENST00000541206\t{'predicate': rdflib.term.URIRef('http://purl.obolibrary.org/obo/RO_0002434'), 'key': 2}\n",
      "http://purl.obolibrary.org/obo/CHEBI_46024\thttps://uswest.ensembl.org/Homo_sapiens/Transcript/Summary?t=ENST00000415806\t{'predicate': rdflib.term.URIRef('http://purl.obolibrary.org/obo/RO_0002434'), 'key': 3}\n",
      "http://purl.obolibrary.org/obo/CHEBI_46024\thttps://uswest.ensembl.org/Homo_sapiens/Transcript/Summary?t=ENST00000528786\t{'predicate': rdflib.term.URIRef('http://purl.obolibrary.org/obo/RO_0002434'), 'key': 4}\n",
      "http://purl.obolibrary.org/obo/CHEBI_46024\thttps://uswest.ensembl.org/Homo_sapiens/Transcript/Summary?t=ENST00000555318\t{'predicate': rdflib.term.URIRef('http://purl.obolibrary.org/obo/RO_0002434'), 'key': 5}\n",
      "http://purl.obolibrary.org/obo/CHEBI_46024\thttp://purl.obolibrary.org/obo/GO_0005741\t{'predicate': rdflib.term.URIRef('http://purl.obolibrary.org/obo/RO_0002436'), 'key': 6}\n",
      "http://purl.obolibrary.org/obo/CHEBI_46024\thttps://uswest.ensembl.org/Homo_sapiens/Transcript/Summary?t=ENST00000560799\t{'predicate': rdflib.term.URIRef('http://purl.obolibrary.org/obo/RO_0002434'), 'key': 7}\n",
      "http://purl.obolibrary.org/obo/CHEBI_46024\thttps://uswest.ensembl.org/Homo_sapiens/Transcript/Summary?t=ENST00000588127\t{'predicate': rdflib.term.URIRef('http://purl.obolibrary.org/obo/RO_0002434'), 'key': 8}\n",
      "http://purl.obolibrary.org/obo/CHEBI_46024\thttps://uswest.ensembl.org/Homo_sapiens/Transcript/Summary?t=ENST00000424693\t{'predicate': rdflib.term.URIRef('http://purl.obolibrary.org/obo/RO_0002434'), 'key': 9}\n",
      "http://purl.obolibrary.org/obo/CHEBI_46024\thttps://uswest.ensembl.org/Homo_sapiens/Transcript/Summary?t=ENST00000339642\t{'predicate': rdflib.term.URIRef('http://purl.obolibrary.org/obo/RO_0002434'), 'key': 10}\n",
      "http://purl.obolibrary.org/obo/CHEBI_46024\thttps://uswest.ensembl.org/Homo_sapiens/Transcript/Summary?t=ENST00000636254\t{'predicate': rdflib.term.URIRef('http://purl.obolibrary.org/obo/RO_0002434'), 'key': 11}\n",
      "http://purl.obolibrary.org/obo/CHEBI_46024\thttps://uswest.ensembl.org/Homo_sapiens/Transcript/Summary?t=ENST00000515847\t{'predicate': rdflib.term.URIRef('http://purl.obolibrary.org/obo/RO_0002434'), 'key': 12}\n",
      "http://purl.obolibrary.org/obo/CHEBI_46024\thttps://uswest.ensembl.org/Homo_sapiens/Transcript/Summary?t=ENST00000550816\t{'predicate': rdflib.term.URIRef('http://purl.obolibrary.org/obo/RO_0002434'), 'key': 13}\n",
      "http://purl.obolibrary.org/obo/CHEBI_46024\thttps://uswest.ensembl.org/Homo_sapiens/Transcript/Summary?t=ENST00000498119\t{'predicate': rdflib.term.URIRef('http://purl.obolibrary.org/obo/RO_0002434'), 'key': 14}\n",
      "http://purl.obolibrary.org/obo/CHEBI_46024\thttps://uswest.ensembl.org/Homo_sapiens/Transcript/Summary?t=ENST00000455892\t{'predicate': rdflib.term.URIRef('http://purl.obolibrary.org/obo/RO_0002434'), 'key': 15}\n",
      "http://purl.obolibrary.org/obo/CHEBI_46024\thttps://uswest.ensembl.org/Homo_sapiens/Transcript/Summary?t=ENST00000454792\t{'predicate': rdflib.term.URIRef('http://purl.obolibrary.org/obo/RO_0002434'), 'key': 16}\n",
      "http://purl.obolibrary.org/obo/CHEBI_46024\thttps://uswest.ensembl.org/Homo_sapiens/Transcript/Summary?t=ENST00000574033\t{'predicate': rdflib.term.URIRef('http://purl.obolibrary.org/obo/RO_0002434'), 'key': 17}\n",
      "http://purl.obolibrary.org/obo/CHEBI_46024\thttps://uswest.ensembl.org/Homo_sapiens/Transcript/Summary?t=ENST00000532120\t{'predicate': rdflib.term.URIRef('http://purl.obolibrary.org/obo/RO_0002434'), 'key': 18}\n",
      "http://purl.obolibrary.org/obo/CHEBI_46024\thttps://uswest.ensembl.org/Homo_sapiens/Transcript/Summary?t=ENST00000492652\t{'predicate': rdflib.term.URIRef('http://purl.obolibrary.org/obo/RO_0002434'), 'key': 19}\n",
      "http://purl.obolibrary.org/obo/CHEBI_46024\thttps://uswest.ensembl.org/Homo_sapiens/Transcript/Summary?t=ENST00000556351\t{'predicate': rdflib.term.URIRef('http://purl.obolibrary.org/obo/RO_0002434'), 'key': 20}\n",
      "http://purl.obolibrary.org/obo/CHEBI_46024\thttps://uswest.ensembl.org/Homo_sapiens/Transcript/Summary?t=ENST00000650399\t{'predicate': rdflib.term.URIRef('http://purl.obolibrary.org/obo/RO_0002434'), 'key': 21}\n",
      "http://purl.obolibrary.org/obo/CHEBI_46024\thttps://uswest.ensembl.org/Homo_sapiens/Transcript/Summary?t=ENST00000449648\t{'predicate': rdflib.term.URIRef('http://purl.obolibrary.org/obo/RO_0002434'), 'key': 22}\n",
      "http://purl.obolibrary.org/obo/CHEBI_46024\thttps://uswest.ensembl.org/Homo_sapiens/Transcript/Summary?t=ENST00000552783\t{'predicate': rdflib.term.URIRef('http://purl.obolibrary.org/obo/RO_0002434'), 'key': 23}\n",
      "http://purl.obolibrary.org/obo/CHEBI_46024\thttps://uswest.ensembl.org/Homo_sapiens/Transcript/Summary?t=ENST00000377284\t{'predicate': rdflib.term.URIRef('http://purl.obolibrary.org/obo/RO_0002434'), 'key': 24}\n",
      "http://purl.obolibrary.org/obo/CHEBI_46024\thttp://purl.obolibrary.org/obo/GO_0000922\t{'predicate': rdflib.term.URIRef('http://purl.obolibrary.org/obo/RO_0002436'), 'key': 25}\n",
      "http://purl.obolibrary.org/obo/CHEBI_46024\thttp://purl.obolibrary.org/obo/PR_Q9H3D4\t{'predicate': rdflib.term.URIRef('http://purl.obolibrary.org/obo/RO_0002434'), 'key': 26}\n",
      "http://purl.obolibrary.org/obo/CHEBI_46024\thttp://purl.obolibrary.org/obo/GO_0043087\t{'predicate': rdflib.term.URIRef('http://purl.obolibrary.org/obo/RO_0002436'), 'key': 27}\n",
      "http://purl.obolibrary.org/obo/CHEBI_46024\thttps://uswest.ensembl.org/Homo_sapiens/Transcript/Summary?t=ENST00000534956\t{'predicate': rdflib.term.URIRef('http://purl.obolibrary.org/obo/RO_0002434'), 'key': 28}\n",
      "http://purl.obolibrary.org/obo/CHEBI_46024\thttps://uswest.ensembl.org/Homo_sapiens/Transcript/Summary?t=ENST00000563067\t{'predicate': rdflib.term.URIRef('http://purl.obolibrary.org/obo/RO_0002434'), 'key': 29}\n",
      "http://purl.obolibrary.org/obo/CHEBI_46024\thttps://uswest.ensembl.org/Homo_sapiens/Transcript/Summary?t=ENST00000643824\t{'predicate': rdflib.term.URIRef('http://purl.obolibrary.org/obo/RO_0002434'), 'key': 30}\n",
      "http://purl.obolibrary.org/obo/CHEBI_46024\thttps://uswest.ensembl.org/Homo_sapiens/Transcript/Summary?t=ENST00000550879\t{'predicate': rdflib.term.URIRef('http://purl.obolibrary.org/obo/RO_0002434'), 'key': 31}\n",
      "http://purl.obolibrary.org/obo/CHEBI_46024\thttps://uswest.ensembl.org/Homo_sapiens/Transcript/Summary?t=ENST00000426059\t{'predicate': rdflib.term.URIRef('http://purl.obolibrary.org/obo/RO_0002434'), 'key': 32}\n",
      "http://purl.obolibrary.org/obo/CHEBI_46024\thttps://uswest.ensembl.org/Homo_sapiens/Transcript/Summary?t=ENST00000366577\t{'predicate': rdflib.term.URIRef('http://purl.obolibrary.org/obo/RO_0002434'), 'key': 33}\n",
      "http://purl.obolibrary.org/obo/CHEBI_46024\thttp://purl.obolibrary.org/obo/GO_0062014\t{'predicate': rdflib.term.URIRef('http://purl.obolibrary.org/obo/RO_0002436'), 'key': 34}\n",
      "http://purl.obolibrary.org/obo/CHEBI_46024\thttp://purl.obolibrary.org/obo/GO_0010494\t{'predicate': rdflib.term.URIRef('http://purl.obolibrary.org/obo/RO_0002436'), 'key': 35}\n",
      "http://purl.obolibrary.org/obo/CHEBI_46024\thttps://uswest.ensembl.org/Homo_sapiens/Transcript/Summary?t=ENST00000545811\t{'predicate': rdflib.term.URIRef('http://purl.obolibrary.org/obo/RO_0002434'), 'key': 36}\n",
      "http://purl.obolibrary.org/obo/CHEBI_46024\thttps://uswest.ensembl.org/Homo_sapiens/Transcript/Summary?t=ENST00000634690\t{'predicate': rdflib.term.URIRef('http://purl.obolibrary.org/obo/RO_0002434'), 'key': 37}\n",
      "http://purl.obolibrary.org/obo/CHEBI_46024\thttps://uswest.ensembl.org/Homo_sapiens/Transcript/Summary?t=ENST00000526381\t{'predicate': rdflib.term.URIRef('http://purl.obolibrary.org/obo/RO_0002434'), 'key': 38}\n",
      "http://purl.obolibrary.org/obo/CHEBI_46024\thttps://uswest.ensembl.org/Homo_sapiens/Transcript/Summary?t=ENST00000355632\t{'predicate': rdflib.term.URIRef('http://purl.obolibrary.org/obo/RO_0002434'), 'key': 39}\n",
      "http://purl.obolibrary.org/obo/CHEBI_46024\thttps://uswest.ensembl.org/Homo_sapiens/Transcript/Summary?t=ENST00000559803\t{'predicate': rdflib.term.URIRef('http://purl.obolibrary.org/obo/RO_0002434'), 'key': 40}\n",
      "http://purl.obolibrary.org/obo/CHEBI_46024\thttps://uswest.ensembl.org/Homo_sapiens/Transcript/Summary?t=ENST00000436787\t{'predicate': rdflib.term.URIRef('http://purl.obolibrary.org/obo/RO_0002434'), 'key': 41}\n",
      "http://purl.obolibrary.org/obo/CHEBI_46024\thttps://uswest.ensembl.org/Homo_sapiens/Transcript/Summary?t=ENST00000491734\t{'predicate': rdflib.term.URIRef('http://purl.obolibrary.org/obo/RO_0002434'), 'key': 42}\n",
      "http://purl.obolibrary.org/obo/CHEBI_46024\thttps://uswest.ensembl.org/Homo_sapiens/Transcript/Summary?t=ENST00000313949\t{'predicate': rdflib.term.URIRef('http://purl.obolibrary.org/obo/RO_0002434'), 'key': 43}\n",
      "http://purl.obolibrary.org/obo/CHEBI_46024\thttps://uswest.ensembl.org/Homo_sapiens/Transcript/Summary?t=ENST00000518092\t{'predicate': rdflib.term.URIRef('http://purl.obolibrary.org/obo/RO_0002434'), 'key': 44}\n",
      "http://purl.obolibrary.org/obo/CHEBI_46024\thttps://uswest.ensembl.org/Homo_sapiens/Transcript/Summary?t=ENST00000639541\t{'predicate': rdflib.term.URIRef('http://purl.obolibrary.org/obo/RO_0002434'), 'key': 45}\n",
      "http://purl.obolibrary.org/obo/CHEBI_46024\thttps://uswest.ensembl.org/Homo_sapiens/Transcript/Summary?t=ENST00000481868\t{'predicate': rdflib.term.URIRef('http://purl.obolibrary.org/obo/RO_0002434'), 'key': 46}\n",
      "http://purl.obolibrary.org/obo/CHEBI_46024\thttps://uswest.ensembl.org/Homo_sapiens/Transcript/Summary?t=ENST00000630813\t{'predicate': rdflib.term.URIRef('http://purl.obolibrary.org/obo/RO_0002434'), 'key': 47}\n",
      "http://purl.obolibrary.org/obo/CHEBI_46024\thttps://uswest.ensembl.org/Homo_sapiens/Transcript/Summary?t=ENST00000233596\t{'predicate': rdflib.term.URIRef('http://purl.obolibrary.org/obo/RO_0002434'), 'key': 48}\n",
      "http://purl.obolibrary.org/obo/CHEBI_46024\thttps://uswest.ensembl.org/Homo_sapiens/Transcript/Summary?t=ENST00000475851\t{'predicate': rdflib.term.URIRef('http://purl.obolibrary.org/obo/RO_0002434'), 'key': 49}\n",
      "http://purl.obolibrary.org/obo/CHEBI_46024\thttps://uswest.ensembl.org/Homo_sapiens/Transcript/Summary?t=ENST00000648754\t{'predicate': rdflib.term.URIRef('http://purl.obolibrary.org/obo/RO_0002434'), 'key': 50}\n",
      "http://purl.obolibrary.org/obo/CHEBI_46024\thttps://uswest.ensembl.org/Homo_sapiens/Transcript/Summary?t=ENST00000598774\t{'predicate': rdflib.term.URIRef('http://purl.obolibrary.org/obo/RO_0002434'), 'key': 51}\n",
      "http://purl.obolibrary.org/obo/CHEBI_46024\thttps://uswest.ensembl.org/Homo_sapiens/Transcript/Summary?t=ENST00000420646\t{'predicate': rdflib.term.URIRef('http://purl.obolibrary.org/obo/RO_0002434'), 'key': 52}\n",
      "http://purl.obolibrary.org/obo/CHEBI_46024\thttps://uswest.ensembl.org/Homo_sapiens/Transcript/Summary?t=ENST00000645663\t{'predicate': rdflib.term.URIRef('http://purl.obolibrary.org/obo/RO_0002434'), 'key': 53}\n",
      "http://purl.obolibrary.org/obo/CHEBI_46024\thttps://uswest.ensembl.org/Homo_sapiens/Transcript/Summary?t=ENST00000303004\t{'predicate': rdflib.term.URIRef('http://purl.obolibrary.org/obo/RO_0002434'), 'key': 54}\n",
      "http://purl.obolibrary.org/obo/CHEBI_46024\thttps://uswest.ensembl.org/Homo_sapiens/Transcript/Summary?t=ENST00000504860\t{'predicate': rdflib.term.URIRef('http://purl.obolibrary.org/obo/RO_0002434'), 'key': 55}\n",
      "http://purl.obolibrary.org/obo/CHEBI_46024\thttps://uswest.ensembl.org/Homo_sapiens/Transcript/Summary?t=ENST00000527794\t{'predicate': rdflib.term.URIRef('http://purl.obolibrary.org/obo/RO_0002434'), 'key': 56}\n",
      "http://purl.obolibrary.org/obo/CHEBI_46024\thttps://uswest.ensembl.org/Homo_sapiens/Transcript/Summary?t=ENST00000471344\t{'predicate': rdflib.term.URIRef('http://purl.obolibrary.org/obo/RO_0002434'), 'key': 57}\n",
      "http://purl.obolibrary.org/obo/CHEBI_46024\thttps://uswest.ensembl.org/Homo_sapiens/Transcript/Summary?t=ENST00000555006\t{'predicate': rdflib.term.URIRef('http://purl.obolibrary.org/obo/RO_0002434'), 'key': 58}\n",
      "http://purl.obolibrary.org/obo/CHEBI_46024\thttps://uswest.ensembl.org/Homo_sapiens/Transcript/Summary?t=ENST00000537209\t{'predicate': rdflib.term.URIRef('http://purl.obolibrary.org/obo/RO_0002434'), 'key': 59}\n",
      "http://purl.obolibrary.org/obo/CHEBI_46024\thttps://uswest.ensembl.org/Homo_sapiens/Transcript/Summary?t=ENST00000671157\t{'predicate': rdflib.term.URIRef('http://purl.obolibrary.org/obo/RO_0002434'), 'key': 60}\n",
      "http://purl.obolibrary.org/obo/CHEBI_46024\thttps://uswest.ensembl.org/Homo_sapiens/Transcript/Summary?t=ENST00000405335\t{'predicate': rdflib.term.URIRef('http://purl.obolibrary.org/obo/RO_0002434'), 'key': 61}\n",
      "http://purl.obolibrary.org/obo/CHEBI_46024\thttps://uswest.ensembl.org/Homo_sapiens/Transcript/Summary?t=ENST00000357881\t{'predicate': rdflib.term.URIRef('http://purl.obolibrary.org/obo/RO_0002434'), 'key': 62}\n",
      "http://purl.obolibrary.org/obo/CHEBI_46024\thttps://uswest.ensembl.org/Homo_sapiens/Transcript/Summary?t=ENST00000448733\t{'predicate': rdflib.term.URIRef('http://purl.obolibrary.org/obo/RO_0002434'), 'key': 63}\n",
      "http://purl.obolibrary.org/obo/CHEBI_46024\thttps://uswest.ensembl.org/Homo_sapiens/Transcript/Summary?t=ENST00000357811\t{'predicate': rdflib.term.URIRef('http://purl.obolibrary.org/obo/RO_0002434'), 'key': 64}\n",
      "http://purl.obolibrary.org/obo/CHEBI_46024\thttps://uswest.ensembl.org/Homo_sapiens/Transcript/Summary?t=ENST00000471786\t{'predicate': rdflib.term.URIRef('http://purl.obolibrary.org/obo/RO_0002434'), 'key': 65}\n",
      "http://purl.obolibrary.org/obo/CHEBI_46024\thttps://uswest.ensembl.org/Homo_sapiens/Transcript/Summary?t=ENST00000526256\t{'predicate': rdflib.term.URIRef('http://purl.obolibrary.org/obo/RO_0002434'), 'key': 66}\n",
      "http://purl.obolibrary.org/obo/CHEBI_46024\thttps://uswest.ensembl.org/Homo_sapiens/Transcript/Summary?t=ENST00000479870\t{'predicate': rdflib.term.URIRef('http://purl.obolibrary.org/obo/RO_0002434'), 'key': 67}\n",
      "http://purl.obolibrary.org/obo/CHEBI_46024\thttps://uswest.ensembl.org/Homo_sapiens/Transcript/Summary?t=ENST00000490122\t{'predicate': rdflib.term.URIRef('http://purl.obolibrary.org/obo/RO_0002434'), 'key': 68}\n",
      "http://purl.obolibrary.org/obo/CHEBI_46024\thttps://uswest.ensembl.org/Homo_sapiens/Transcript/Summary?t=ENST00000510770\t{'predicate': rdflib.term.URIRef('http://purl.obolibrary.org/obo/RO_0002434'), 'key': 69}\n",
      "http://purl.obolibrary.org/obo/CHEBI_46024\thttps://uswest.ensembl.org/Homo_sapiens/Transcript/Summary?t=ENST00000486986\t{'predicate': rdflib.term.URIRef('http://purl.obolibrary.org/obo/RO_0002434'), 'key': 70}\n",
      "http://purl.obolibrary.org/obo/CHEBI_46024\thttps://uswest.ensembl.org/Homo_sapiens/Transcript/Summary?t=ENST00000503639\t{'predicate': rdflib.term.URIRef('http://purl.obolibrary.org/obo/RO_0002434'), 'key': 71}\n",
      "http://purl.obolibrary.org/obo/CHEBI_46024\thttps://uswest.ensembl.org/Homo_sapiens/Transcript/Summary?t=ENST00000319580\t{'predicate': rdflib.term.URIRef('http://purl.obolibrary.org/obo/RO_0002434'), 'key': 72}\n",
      "http://purl.obolibrary.org/obo/CHEBI_46024\thttps://uswest.ensembl.org/Homo_sapiens/Transcript/Summary?t=ENST00000531255\t{'predicate': rdflib.term.URIRef('http://purl.obolibrary.org/obo/RO_0002434'), 'key': 73}\n",
      "http://purl.obolibrary.org/obo/CHEBI_46024\thttps://uswest.ensembl.org/Homo_sapiens/Transcript/Summary?t=ENST00000496845\t{'predicate': rdflib.term.URIRef('http://purl.obolibrary.org/obo/RO_0002434'), 'key': 74}\n",
      "http://purl.obolibrary.org/obo/CHEBI_46024\thttps://uswest.ensembl.org/Homo_sapiens/Transcript/Summary?t=ENST00000340360\t{'predicate': rdflib.term.URIRef('http://purl.obolibrary.org/obo/RO_0002434'), 'key': 75}\n",
      "http://purl.obolibrary.org/obo/CHEBI_46024\thttps://uswest.ensembl.org/Homo_sapiens/Transcript/Summary?t=ENST00000656783\t{'predicate': rdflib.term.URIRef('http://purl.obolibrary.org/obo/RO_0002434'), 'key': 76}\n",
      "http://purl.obolibrary.org/obo/CHEBI_46024\thttp://purl.obolibrary.org/obo/GO_2000106\t{'predicate': rdflib.term.URIRef('http://purl.obolibrary.org/obo/RO_0002436'), 'key': 77}\n",
      "http://purl.obolibrary.org/obo/CHEBI_46024\thttps://uswest.ensembl.org/Homo_sapiens/Transcript/Summary?t=ENST00000580278\t{'predicate': rdflib.term.URIRef('http://purl.obolibrary.org/obo/RO_0002434'), 'key': 78}\n",
      "http://purl.obolibrary.org/obo/CHEBI_46024\thttps://uswest.ensembl.org/Homo_sapiens/Transcript/Summary?t=ENST00000610520\t{'predicate': rdflib.term.URIRef('http://purl.obolibrary.org/obo/RO_0002434'), 'key': 79}\n",
      "http://purl.obolibrary.org/obo/CHEBI_46024\thttps://uswest.ensembl.org/Homo_sapiens/Transcript/Summary?t=ENST00000513646\t{'predicate': rdflib.term.URIRef('http://purl.obolibrary.org/obo/RO_0002434'), 'key': 80}\n",
      "http://purl.obolibrary.org/obo/CHEBI_46024\thttps://uswest.ensembl.org/Homo_sapiens/Transcript/Summary?t=ENST00000260502\t{'predicate': rdflib.term.URIRef('http://purl.obolibrary.org/obo/RO_0002434'), 'key': 81}\n",
      "http://purl.obolibrary.org/obo/CHEBI_46024\thttps://uswest.ensembl.org/Homo_sapiens/Transcript/Summary?t=ENST00000658823\t{'predicate': rdflib.term.URIRef('http://purl.obolibrary.org/obo/RO_0002434'), 'key': 82}\n",
      "http://purl.obolibrary.org/obo/CHEBI_46024\thttp://purl.obolibrary.org/obo/GO_0035909\t{'predicate': rdflib.term.URIRef('http://purl.obolibrary.org/obo/RO_0002436'), 'key': 83}\n",
      "http://purl.obolibrary.org/obo/CHEBI_46024\thttps://uswest.ensembl.org/Homo_sapiens/Transcript/Summary?t=ENST00000619453\t{'predicate': rdflib.term.URIRef('http://purl.obolibrary.org/obo/RO_0002434'), 'key': 84}\n",
      "http://purl.obolibrary.org/obo/CHEBI_46024\thttps://uswest.ensembl.org/Homo_sapiens/Transcript/Summary?t=ENST00000587171\t{'predicate': rdflib.term.URIRef('http://purl.obolibrary.org/obo/RO_0002434'), 'key': 85}\n",
      "http://purl.obolibrary.org/obo/CHEBI_46024\thttps://uswest.ensembl.org/Homo_sapiens/Transcript/Summary?t=ENST00000560396\t{'predicate': rdflib.term.URIRef('http://purl.obolibrary.org/obo/RO_0002434'), 'key': 86}\n",
      "http://purl.obolibrary.org/obo/CHEBI_46024\thttps://uswest.ensembl.org/Homo_sapiens/Transcript/Summary?t=ENST00000520168\t{'predicate': rdflib.term.URIRef('http://purl.obolibrary.org/obo/RO_0002434'), 'key': 87}\n",
      "http://purl.obolibrary.org/obo/CHEBI_46024\thttps://uswest.ensembl.org/Homo_sapiens/Transcript/Summary?t=ENST00000546506\t{'predicate': rdflib.term.URIRef('http://purl.obolibrary.org/obo/RO_0002434'), 'key': 88}\n",
      "http://purl.obolibrary.org/obo/CHEBI_46024\thttps://uswest.ensembl.org/Homo_sapiens/Transcript/Summary?t=ENST00000651772\t{'predicate': rdflib.term.URIRef('http://purl.obolibrary.org/obo/RO_0002434'), 'key': 89}\n",
      "http://purl.obolibrary.org/obo/CHEBI_46024\thttps://uswest.ensembl.org/Homo_sapiens/Transcript/Summary?t=ENST00000439495\t{'predicate': rdflib.term.URIRef('http://purl.obolibrary.org/obo/RO_0002434'), 'key': 90}\n",
      "http://purl.obolibrary.org/obo/CHEBI_46024\thttps://uswest.ensembl.org/Homo_sapiens/Transcript/Summary?t=ENST00000375167\t{'predicate': rdflib.term.URIRef('http://purl.obolibrary.org/obo/RO_0002434'), 'key': 91}\n",
      "http://purl.obolibrary.org/obo/CHEBI_46024\thttps://uswest.ensembl.org/Homo_sapiens/Transcript/Summary?t=ENST00000491831\t{'predicate': rdflib.term.URIRef('http://purl.obolibrary.org/obo/RO_0002434'), 'key': 92}\n",
      "http://purl.obolibrary.org/obo/CHEBI_46024\thttps://uswest.ensembl.org/Homo_sapiens/Transcript/Summary?t=ENST00000467474\t{'predicate': rdflib.term.URIRef('http://purl.obolibrary.org/obo/RO_0002434'), 'key': 93}\n",
      "http://purl.obolibrary.org/obo/CHEBI_46024\thttps://uswest.ensembl.org/Homo_sapiens/Transcript/Summary?t=ENST00000576739\t{'predicate': rdflib.term.URIRef('http://purl.obolibrary.org/obo/RO_0002434'), 'key': 94}\n",
      "http://purl.obolibrary.org/obo/CHEBI_46024\thttps://uswest.ensembl.org/Homo_sapiens/Transcript/Summary?t=ENST00000440590\t{'predicate': rdflib.term.URIRef('http://purl.obolibrary.org/obo/RO_0002434'), 'key': 95}\n",
      "http://purl.obolibrary.org/obo/CHEBI_46024\thttps://uswest.ensembl.org/Homo_sapiens/Transcript/Summary?t=ENST00000481532\t{'predicate': rdflib.term.URIRef('http://purl.obolibrary.org/obo/RO_0002434'), 'key': 96}\n",
      "http://purl.obolibrary.org/obo/CHEBI_46024\thttps://uswest.ensembl.org/Homo_sapiens/Transcript/Summary?t=ENST00000247001\t{'predicate': rdflib.term.URIRef('http://purl.obolibrary.org/obo/RO_0002434'), 'key': 97}\n",
      "http://purl.obolibrary.org/obo/CHEBI_46024\thttps://uswest.ensembl.org/Homo_sapiens/Transcript/Summary?t=ENST00000339416\t{'predicate': rdflib.term.URIRef('http://purl.obolibrary.org/obo/RO_0002434'), 'key': 98}\n",
      "http://purl.obolibrary.org/obo/CHEBI_46024\thttp://purl.obolibrary.org/obo/GO_0045103\t{'predicate': rdflib.term.URIRef('http://purl.obolibrary.org/obo/RO_0002436'), 'key': 99}\n",
      "http://purl.obolibrary.org/obo/CHEBI_46024\thttps://uswest.ensembl.org/Homo_sapiens/Transcript/Summary?t=ENST00000507285\t{'predicate': rdflib.term.URIRef('http://purl.obolibrary.org/obo/RO_0002434'), 'key': 100}\n",
      "http://purl.obolibrary.org/obo/CHEBI_46024\thttps://uswest.ensembl.org/Homo_sapiens/Transcript/Summary?t=ENST00000425941\t{'predicate': rdflib.term.URIRef('http://purl.obolibrary.org/obo/RO_0002434'), 'key': 368}\n",
      "http://purl.obolibrary.org/obo/CHEBI_46024\thttps://uswest.ensembl.org/Homo_sapiens/Transcript/Summary?t=ENST00000441709\t{'predicate': rdflib.term.URIRef('http://purl.obolibrary.org/obo/RO_0002434'), 'key': 1977}\n",
      "http://purl.obolibrary.org/obo/CHEBI_46024\thttps://uswest.ensembl.org/Homo_sapiens/Transcript/Summary?t=ENST00000396475\t{'predicate': rdflib.term.URIRef('http://purl.obolibrary.org/obo/RO_0002434'), 'key': 3009}\n",
      "http://purl.obolibrary.org/obo/CHEBI_46024\thttps://uswest.ensembl.org/Homo_sapiens/Transcript/Summary?t=ENST00000530884\t{'predicate': rdflib.term.URIRef('http://purl.obolibrary.org/obo/RO_0002434'), 'key': 3917}\n",
      "http://purl.obolibrary.org/obo/CHEBI_46024\thttps://uswest.ensembl.org/Homo_sapiens/Transcript/Summary?t=ENST00000354489\t{'predicate': rdflib.term.URIRef('http://purl.obolibrary.org/obo/RO_0002434'), 'key': 4149}\n",
      "http://purl.obolibrary.org/obo/CHEBI_46024\thttps://uswest.ensembl.org/Homo_sapiens/Transcript/Summary?t=ENST00000548870\t{'predicate': rdflib.term.URIRef('http://purl.obolibrary.org/obo/RO_0002434'), 'key': 4152}\n",
      "http://purl.obolibrary.org/obo/CHEBI_46024\thttps://uswest.ensembl.org/Homo_sapiens/Transcript/Summary?t=ENST00000508584\t{'predicate': rdflib.term.URIRef('http://purl.obolibrary.org/obo/RO_0002434'), 'key': 6202}\n",
      "http://purl.obolibrary.org/obo/CHEBI_46024\thttps://uswest.ensembl.org/Homo_sapiens/Transcript/Summary?t=ENST00000672664\t{'predicate': rdflib.term.URIRef('http://purl.obolibrary.org/obo/RO_0002434'), 'key': 7978}\n",
      "http://purl.obolibrary.org/obo/CHEBI_46024\thttps://uswest.ensembl.org/Homo_sapiens/Transcript/Summary?t=ENST00000571595\t{'predicate': rdflib.term.URIRef('http://purl.obolibrary.org/obo/RO_0002434'), 'key': 8776}\n",
      "http://purl.obolibrary.org/obo/CHEBI_46024\thttps://uswest.ensembl.org/Homo_sapiens/Transcript/Summary?t=ENST00000588813\t{'predicate': rdflib.term.URIRef('http://purl.obolibrary.org/obo/RO_0002434'), 'key': 9150}\n",
      "http://purl.obolibrary.org/obo/CHEBI_46024\thttp://purl.obolibrary.org/obo/GO_0002718\t{'predicate': rdflib.term.URIRef('http://purl.obolibrary.org/obo/RO_0002436'), 'key': 9850}\n",
      "http://purl.obolibrary.org/obo/CHEBI_46024\thttps://uswest.ensembl.org/Homo_sapiens/Transcript/Summary?t=ENST00000547738\t{'predicate': rdflib.term.URIRef('http://purl.obolibrary.org/obo/RO_0002434'), 'key': 11100}\n",
      "http://purl.obolibrary.org/obo/CHEBI_46024\thttps://uswest.ensembl.org/Homo_sapiens/Transcript/Summary?t=ENST00000495132\t{'predicate': rdflib.term.URIRef('http://purl.obolibrary.org/obo/RO_0002434'), 'key': 12846}\n",
      "http://purl.obolibrary.org/obo/CHEBI_46024\thttps://uswest.ensembl.org/Homo_sapiens/Transcript/Summary?t=ENST00000628245\t{'predicate': rdflib.term.URIRef('http://purl.obolibrary.org/obo/RO_0002434'), 'key': 13258}\n",
      "http://purl.obolibrary.org/obo/CHEBI_46024\thttps://uswest.ensembl.org/Homo_sapiens/Transcript/Summary?t=ENST00000371655\t{'predicate': rdflib.term.URIRef('http://purl.obolibrary.org/obo/RO_0002434'), 'key': 17926}\n",
      "http://purl.obolibrary.org/obo/CHEBI_46024\thttps://uswest.ensembl.org/Homo_sapiens/Transcript/Summary?t=ENST00000439267\t{'predicate': rdflib.term.URIRef('http://purl.obolibrary.org/obo/RO_0002434'), 'key': 18321}\n",
      "http://purl.obolibrary.org/obo/CHEBI_46024\thttp://purl.obolibrary.org/obo/GO_0007435\t{'predicate': rdflib.term.URIRef('http://purl.obolibrary.org/obo/RO_0002436'), 'key': 20329}\n",
      "http://purl.obolibrary.org/obo/CHEBI_46024\thttps://uswest.ensembl.org/Homo_sapiens/Transcript/Summary?t=ENST00000417833\t{'predicate': rdflib.term.URIRef('http://purl.obolibrary.org/obo/RO_0002434'), 'key': 20379}\n",
      "http://purl.obolibrary.org/obo/CHEBI_46024\thttp://purl.obolibrary.org/obo/GO_0034762\t{'predicate': rdflib.term.URIRef('http://purl.obolibrary.org/obo/RO_0002436'), 'key': 20758}\n",
      "http://purl.obolibrary.org/obo/CHEBI_46024\thttps://uswest.ensembl.org/Homo_sapiens/Transcript/Summary?t=ENST00000626957\t{'predicate': rdflib.term.URIRef('http://purl.obolibrary.org/obo/RO_0002434'), 'key': 23499}\n",
      "http://purl.obolibrary.org/obo/CHEBI_46024\thttp://purl.obolibrary.org/obo/GO_0001885\t{'predicate': rdflib.term.URIRef('http://purl.obolibrary.org/obo/RO_0002436'), 'key': 23695}\n",
      "http://purl.obolibrary.org/obo/CHEBI_46024\thttps://uswest.ensembl.org/Homo_sapiens/Transcript/Summary?t=ENST00000215882\t{'predicate': rdflib.term.URIRef('http://purl.obolibrary.org/obo/RO_0002434'), 'key': 26164}\n",
      "http://purl.obolibrary.org/obo/CHEBI_46024\thttps://uswest.ensembl.org/Homo_sapiens/Transcript/Summary?t=ENST00000552823\t{'predicate': rdflib.term.URIRef('http://purl.obolibrary.org/obo/RO_0002434'), 'key': 27445}\n",
      "http://purl.obolibrary.org/obo/CHEBI_46024\thttp://purl.obolibrary.org/obo/PR_O95831\t{'predicate': rdflib.term.URIRef('http://purl.obolibrary.org/obo/RO_0002434'), 'key': 30315}\n",
      "http://purl.obolibrary.org/obo/CHEBI_46024\thttps://uswest.ensembl.org/Homo_sapiens/Transcript/Summary?t=ENST00000334010\t{'predicate': rdflib.term.URIRef('http://purl.obolibrary.org/obo/RO_0002434'), 'key': 30978}\n",
      "http://purl.obolibrary.org/obo/CHEBI_46024\thttps://uswest.ensembl.org/Homo_sapiens/Transcript/Summary?t=ENST00000340209\t{'predicate': rdflib.term.URIRef('http://purl.obolibrary.org/obo/RO_0002434'), 'key': 32485}\n",
      "http://purl.obolibrary.org/obo/CHEBI_46024\thttps://uswest.ensembl.org/Homo_sapiens/Transcript/Summary?t=ENST00000472444\t{'predicate': rdflib.term.URIRef('http://purl.obolibrary.org/obo/RO_0002434'), 'key': 33260}\n",
      "http://purl.obolibrary.org/obo/CHEBI_46024\thttps://uswest.ensembl.org/Homo_sapiens/Transcript/Summary?t=ENST00000555843\t{'predicate': rdflib.term.URIRef('http://purl.obolibrary.org/obo/RO_0002434'), 'key': 33280}\n",
      "http://purl.obolibrary.org/obo/CHEBI_46024\thttps://uswest.ensembl.org/Homo_sapiens/Transcript/Summary?t=ENST00000510357\t{'predicate': rdflib.term.URIRef('http://purl.obolibrary.org/obo/RO_0002434'), 'key': 33707}\n",
      "http://purl.obolibrary.org/obo/CHEBI_46024\thttps://uswest.ensembl.org/Homo_sapiens/Transcript/Summary?t=ENST00000590261\t{'predicate': rdflib.term.URIRef('http://purl.obolibrary.org/obo/RO_0002434'), 'key': 34338}\n",
      "http://purl.obolibrary.org/obo/CHEBI_46024\thttp://purl.obolibrary.org/obo/PR_P62937\t{'predicate': rdflib.term.URIRef('http://purl.obolibrary.org/obo/RO_0002434'), 'key': 35971}\n",
      "http://purl.obolibrary.org/obo/CHEBI_46024\thttps://uswest.ensembl.org/Homo_sapiens/Transcript/Summary?t=ENST00000644204\t{'predicate': rdflib.term.URIRef('http://purl.obolibrary.org/obo/RO_0002434'), 'key': 39901}\n",
      "http://purl.obolibrary.org/obo/CHEBI_46024\thttps://uswest.ensembl.org/Homo_sapiens/Transcript/Summary?t=ENST00000431961\t{'predicate': rdflib.term.URIRef('http://purl.obolibrary.org/obo/RO_0002434'), 'key': 43387}\n",
      "http://purl.obolibrary.org/obo/CHEBI_46024\thttps://uswest.ensembl.org/Homo_sapiens/Transcript/Summary?t=ENST00000485274\t{'predicate': rdflib.term.URIRef('http://purl.obolibrary.org/obo/RO_0002434'), 'key': 43733}\n",
      "http://purl.obolibrary.org/obo/CHEBI_46024\thttps://uswest.ensembl.org/Homo_sapiens/Transcript/Summary?t=ENST00000544291\t{'predicate': rdflib.term.URIRef('http://purl.obolibrary.org/obo/RO_0002434'), 'key': 44794}\n",
      "http://purl.obolibrary.org/obo/CHEBI_46024\thttps://uswest.ensembl.org/Homo_sapiens/Transcript/Summary?t=ENST00000550056\t{'predicate': rdflib.term.URIRef('http://purl.obolibrary.org/obo/RO_0002434'), 'key': 46213}\n",
      "http://purl.obolibrary.org/obo/CHEBI_46024\thttps://uswest.ensembl.org/Homo_sapiens/Transcript/Summary?t=ENST00000490248\t{'predicate': rdflib.term.URIRef('http://purl.obolibrary.org/obo/RO_0002434'), 'key': 46776}\n",
      "https://uswest.ensembl.org/Homo_sapiens/Transcript/Summary?t=ENST00000607195\thttp://purl.obolibrary.org/obo/CHEBI_132082\t{'predicate': rdflib.term.URIRef('http://purl.obolibrary.org/obo/RO_0002434'), 'key': 108}\n",
      "https://uswest.ensembl.org/Homo_sapiens/Transcript/Summary?t=ENST00000607195\thttp://purl.obolibrary.org/obo/CHEBI_30563\t{'predicate': rdflib.term.URIRef('http://purl.obolibrary.org/obo/RO_0002434'), 'key': 109}\n",
      "https://uswest.ensembl.org/Homo_sapiens/Transcript/Summary?t=ENST00000607195\thttp://purl.obolibrary.org/obo/CHEBI_84069\t{'predicate': rdflib.term.URIRef('http://purl.obolibrary.org/obo/RO_0002434'), 'key': 115}\n",
      "https://uswest.ensembl.org/Homo_sapiens/Transcript/Summary?t=ENST00000607195\thttp://purl.obolibrary.org/obo/CHEBI_39867\t{'predicate': rdflib.term.URIRef('http://purl.obolibrary.org/obo/RO_0002434'), 'key': 124}\n",
      "https://uswest.ensembl.org/Homo_sapiens/Transcript/Summary?t=ENST00000607195\thttp://purl.obolibrary.org/obo/CHEBI_28420\t{'predicate': rdflib.term.URIRef('http://purl.obolibrary.org/obo/RO_0002434'), 'key': 125}\n",
      "https://uswest.ensembl.org/Homo_sapiens/Transcript/Summary?t=ENST00000607195\thttp://purl.obolibrary.org/obo/CHEBI_27899\t{'predicate': rdflib.term.URIRef('http://purl.obolibrary.org/obo/RO_0002434'), 'key': 143}\n",
      "https://uswest.ensembl.org/Homo_sapiens/Transcript/Summary?t=ENST00000557107\thttp://purl.obolibrary.org/obo/CHEBI_17823\t{'predicate': rdflib.term.URIRef('http://purl.obolibrary.org/obo/RO_0002434'), 'key': 5229}\n",
      "https://uswest.ensembl.org/Homo_sapiens/Transcript/Summary?t=ENST00000557107\thttp://purl.obolibrary.org/obo/CHEBI_82362\t{'predicate': rdflib.term.URIRef('http://purl.obolibrary.org/obo/RO_0002434'), 'key': 5233}\n",
      "https://uswest.ensembl.org/Homo_sapiens/Transcript/Summary?t=ENST00000557107\thttp://purl.obolibrary.org/obo/CHEBI_29678\t{'predicate': rdflib.term.URIRef('http://purl.obolibrary.org/obo/RO_0002434'), 'key': 5236}\n",
      "https://uswest.ensembl.org/Homo_sapiens/Transcript/Summary?t=ENST00000557107\thttp://purl.obolibrary.org/obo/CHEBI_29865\t{'predicate': rdflib.term.URIRef('http://purl.obolibrary.org/obo/RO_0002434'), 'key': 5238}\n",
      "https://uswest.ensembl.org/Homo_sapiens/Transcript/Summary?t=ENST00000528786\thttp://purl.obolibrary.org/obo/CHEBI_47381\t{'predicate': rdflib.term.URIRef('http://purl.obolibrary.org/obo/RO_0002434'), 'key': 28687}\n",
      "https://uswest.ensembl.org/Homo_sapiens/Transcript/Summary?t=ENST00000492652\thttp://purl.obolibrary.org/obo/CHEBI_2948\t{'predicate': rdflib.term.URIRef('http://purl.obolibrary.org/obo/RO_0002434'), 'key': 25451}\n",
      "http://purl.obolibrary.org/obo/PR_Q9H3D4\thttp://purl.obolibrary.org/obo/PR_P31947\t{'predicate': rdflib.term.URIRef('http://purl.obolibrary.org/obo/RO_0002436'), 'key': 19025}\n",
      "https://uswest.ensembl.org/Homo_sapiens/Transcript/Summary?t=ENST00000426059\thttp://purl.obolibrary.org/obo/CHEBI_80630\t{'predicate': rdflib.term.URIRef('http://purl.obolibrary.org/obo/RO_0002434'), 'key': 4030}\n",
      "http://purl.obolibrary.org/obo/GO_0062014\thttp://purl.obolibrary.org/obo/CHEBI_48901\t{'predicate': rdflib.term.URIRef('http://purl.obolibrary.org/obo/RO_0002436'), 'key': 25512}\n",
      "https://uswest.ensembl.org/Homo_sapiens/Transcript/Summary?t=ENST00000471344\thttp://purl.obolibrary.org/obo/CHEBI_133246\t{'predicate': rdflib.term.URIRef('http://purl.obolibrary.org/obo/RO_0002434'), 'key': 7911}\n",
      "http://purl.obolibrary.org/obo/GO_0035909\thttp://purl.obolibrary.org/obo/CHEBI_23238\t{'predicate': rdflib.term.URIRef('http://purl.obolibrary.org/obo/RO_0002436'), 'key': 45055}\n",
      "https://uswest.ensembl.org/Homo_sapiens/Transcript/Summary?t=ENST00000560396\thttp://purl.obolibrary.org/obo/CHEBI_16118\t{'predicate': rdflib.term.URIRef('http://purl.obolibrary.org/obo/RO_0002434'), 'key': 40450}\n",
      "http://purl.obolibrary.org/obo/CHEBI_132082\thttps://uswest.ensembl.org/Homo_sapiens/Transcript/Summary?t=ENST00000528525\t{'predicate': rdflib.term.URIRef('http://purl.obolibrary.org/obo/RO_0002434'), 'key': 1641}\n",
      "http://purl.obolibrary.org/obo/CHEBI_132082\thttps://uswest.ensembl.org/Homo_sapiens/Transcript/Summary?t=ENST00000530884\t{'predicate': rdflib.term.URIRef('http://purl.obolibrary.org/obo/RO_0002434'), 'key': 3930}\n",
      "http://purl.obolibrary.org/obo/CHEBI_132082\thttps://uswest.ensembl.org/Homo_sapiens/Transcript/Summary?t=ENST00000354489\t{'predicate': rdflib.term.URIRef('http://purl.obolibrary.org/obo/RO_0002434'), 'key': 4140}\n",
      "http://purl.obolibrary.org/obo/CHEBI_132082\thttps://uswest.ensembl.org/Homo_sapiens/Transcript/Summary?t=ENST00000672664\t{'predicate': rdflib.term.URIRef('http://purl.obolibrary.org/obo/RO_0002434'), 'key': 7973}\n",
      "http://purl.obolibrary.org/obo/CHEBI_132082\thttps://uswest.ensembl.org/Homo_sapiens/Transcript/Summary?t=ENST00000645650\t{'predicate': rdflib.term.URIRef('http://purl.obolibrary.org/obo/RO_0002434'), 'key': 13374}\n",
      "http://purl.obolibrary.org/obo/CHEBI_132082\thttp://purl.obolibrary.org/obo/GO_0060021\t{'predicate': rdflib.term.URIRef('http://purl.obolibrary.org/obo/RO_0002436'), 'key': 19906}\n",
      "http://purl.obolibrary.org/obo/CHEBI_132082\thttp://purl.obolibrary.org/obo/GO_0034762\t{'predicate': rdflib.term.URIRef('http://purl.obolibrary.org/obo/RO_0002436'), 'key': 20808}\n",
      "http://purl.obolibrary.org/obo/CHEBI_132082\thttps://uswest.ensembl.org/Homo_sapiens/Transcript/Summary?t=ENST00000508213\t{'predicate': rdflib.term.URIRef('http://purl.obolibrary.org/obo/RO_0002434'), 'key': 24980}\n",
      "http://purl.obolibrary.org/obo/CHEBI_132082\thttps://uswest.ensembl.org/Homo_sapiens/Transcript/Summary?t=ENST00000592581\t{'predicate': rdflib.term.URIRef('http://purl.obolibrary.org/obo/RO_0002434'), 'key': 25733}\n",
      "http://purl.obolibrary.org/obo/CHEBI_132082\thttps://uswest.ensembl.org/Homo_sapiens/Transcript/Summary?t=ENST00000552823\t{'predicate': rdflib.term.URIRef('http://purl.obolibrary.org/obo/RO_0002434'), 'key': 27447}\n",
      "http://purl.obolibrary.org/obo/CHEBI_132082\thttps://uswest.ensembl.org/Homo_sapiens/Transcript/Summary?t=ENST00000441094\t{'predicate': rdflib.term.URIRef('http://purl.obolibrary.org/obo/RO_0002434'), 'key': 39306}\n",
      "http://purl.obolibrary.org/obo/CHEBI_132082\thttp://purl.obolibrary.org/obo/GO_0042826\t{'predicate': rdflib.term.URIRef('http://purl.obolibrary.org/obo/RO_0002436'), 'key': 39205}\n",
      "http://purl.obolibrary.org/obo/CHEBI_132082\thttps://uswest.ensembl.org/Homo_sapiens/Transcript/Summary?t=ENST00000586858\t{'predicate': rdflib.term.URIRef('http://purl.obolibrary.org/obo/RO_0002434'), 'key': 39206}\n",
      "http://purl.obolibrary.org/obo/CHEBI_132082\thttps://uswest.ensembl.org/Homo_sapiens/Transcript/Summary?t=ENST00000504764\t{'predicate': rdflib.term.URIRef('http://purl.obolibrary.org/obo/RO_0002434'), 'key': 39207}\n",
      "http://purl.obolibrary.org/obo/CHEBI_132082\thttps://uswest.ensembl.org/Homo_sapiens/Transcript/Summary?t=ENST00000475300\t{'predicate': rdflib.term.URIRef('http://purl.obolibrary.org/obo/RO_0002434'), 'key': 39208}\n",
      "http://purl.obolibrary.org/obo/CHEBI_132082\thttps://uswest.ensembl.org/Homo_sapiens/Transcript/Summary?t=ENST00000557954\t{'predicate': rdflib.term.URIRef('http://purl.obolibrary.org/obo/RO_0002434'), 'key': 39209}\n",
      "http://purl.obolibrary.org/obo/CHEBI_132082\thttps://uswest.ensembl.org/Homo_sapiens/Transcript/Summary?t=ENST00000660873\t{'predicate': rdflib.term.URIRef('http://purl.obolibrary.org/obo/RO_0002434'), 'key': 39210}\n",
      "http://purl.obolibrary.org/obo/CHEBI_132082\thttps://uswest.ensembl.org/Homo_sapiens/Transcript/Summary?t=ENST00000409957\t{'predicate': rdflib.term.URIRef('http://purl.obolibrary.org/obo/RO_0002434'), 'key': 39211}\n",
      "http://purl.obolibrary.org/obo/CHEBI_132082\thttps://uswest.ensembl.org/Homo_sapiens/Transcript/Summary?t=ENST00000614754\t{'predicate': rdflib.term.URIRef('http://purl.obolibrary.org/obo/RO_0002434'), 'key': 39212}\n",
      "http://purl.obolibrary.org/obo/CHEBI_132082\thttps://uswest.ensembl.org/Homo_sapiens/Transcript/Summary?t=ENST00000488355\t{'predicate': rdflib.term.URIRef('http://purl.obolibrary.org/obo/RO_0002434'), 'key': 39213}\n",
      "http://purl.obolibrary.org/obo/CHEBI_132082\thttps://uswest.ensembl.org/Homo_sapiens/Transcript/Summary?t=ENST00000476447\t{'predicate': rdflib.term.URIRef('http://purl.obolibrary.org/obo/RO_0002434'), 'key': 39214}\n",
      "http://purl.obolibrary.org/obo/CHEBI_132082\thttps://uswest.ensembl.org/Homo_sapiens/Transcript/Summary?t=ENST00000496201\t{'predicate': rdflib.term.URIRef('http://purl.obolibrary.org/obo/RO_0002434'), 'key': 39215}\n",
      "http://purl.obolibrary.org/obo/CHEBI_132082\thttps://uswest.ensembl.org/Homo_sapiens/Transcript/Summary?t=ENST00000464668\t{'predicate': rdflib.term.URIRef('http://purl.obolibrary.org/obo/RO_0002434'), 'key': 39216}\n",
      "http://purl.obolibrary.org/obo/CHEBI_132082\thttps://uswest.ensembl.org/Homo_sapiens/Transcript/Summary?t=ENST00000549832\t{'predicate': rdflib.term.URIRef('http://purl.obolibrary.org/obo/RO_0002434'), 'key': 39217}\n",
      "http://purl.obolibrary.org/obo/CHEBI_132082\thttps://uswest.ensembl.org/Homo_sapiens/Transcript/Summary?t=ENST00000398437\t{'predicate': rdflib.term.URIRef('http://purl.obolibrary.org/obo/RO_0002434'), 'key': 39218}\n",
      "http://purl.obolibrary.org/obo/CHEBI_132082\thttps://uswest.ensembl.org/Homo_sapiens/Transcript/Summary?t=ENST00000638926\t{'predicate': rdflib.term.URIRef('http://purl.obolibrary.org/obo/RO_0002434'), 'key': 39219}\n",
      "http://purl.obolibrary.org/obo/CHEBI_132082\thttps://uswest.ensembl.org/Homo_sapiens/Transcript/Summary?t=ENST00000536609\t{'predicate': rdflib.term.URIRef('http://purl.obolibrary.org/obo/RO_0002434'), 'key': 39220}\n",
      "http://purl.obolibrary.org/obo/CHEBI_132082\thttps://uswest.ensembl.org/Homo_sapiens/Transcript/Summary?t=ENST00000594042\t{'predicate': rdflib.term.URIRef('http://purl.obolibrary.org/obo/RO_0002434'), 'key': 39221}\n",
      "http://purl.obolibrary.org/obo/CHEBI_132082\thttps://uswest.ensembl.org/Homo_sapiens/Transcript/Summary?t=ENST00000324545\t{'predicate': rdflib.term.URIRef('http://purl.obolibrary.org/obo/RO_0002434'), 'key': 39222}\n",
      "http://purl.obolibrary.org/obo/CHEBI_132082\thttps://uswest.ensembl.org/Homo_sapiens/Transcript/Summary?t=ENST00000412135\t{'predicate': rdflib.term.URIRef('http://purl.obolibrary.org/obo/RO_0002434'), 'key': 39223}\n",
      "http://purl.obolibrary.org/obo/CHEBI_132082\thttps://uswest.ensembl.org/Homo_sapiens/Transcript/Summary?t=ENST00000544155\t{'predicate': rdflib.term.URIRef('http://purl.obolibrary.org/obo/RO_0002434'), 'key': 39224}\n",
      "http://purl.obolibrary.org/obo/CHEBI_132082\thttps://uswest.ensembl.org/Homo_sapiens/Transcript/Summary?t=ENST00000648786\t{'predicate': rdflib.term.URIRef('http://purl.obolibrary.org/obo/RO_0002434'), 'key': 39225}\n",
      "http://purl.obolibrary.org/obo/CHEBI_132082\thttps://uswest.ensembl.org/Homo_sapiens/Transcript/Summary?t=ENST00000575389\t{'predicate': rdflib.term.URIRef('http://purl.obolibrary.org/obo/RO_0002434'), 'key': 39226}\n",
      "http://purl.obolibrary.org/obo/CHEBI_132082\thttps://uswest.ensembl.org/Homo_sapiens/Transcript/Summary?t=ENST00000419781\t{'predicate': rdflib.term.URIRef('http://purl.obolibrary.org/obo/RO_0002434'), 'key': 39227}\n",
      "http://purl.obolibrary.org/obo/CHEBI_132082\thttps://uswest.ensembl.org/Homo_sapiens/Transcript/Summary?t=ENST00000504845\t{'predicate': rdflib.term.URIRef('http://purl.obolibrary.org/obo/RO_0002434'), 'key': 39228}\n",
      "http://purl.obolibrary.org/obo/CHEBI_132082\thttps://uswest.ensembl.org/Homo_sapiens/Transcript/Summary?t=ENST00000570264\t{'predicate': rdflib.term.URIRef('http://purl.obolibrary.org/obo/RO_0002434'), 'key': 39229}\n",
      "http://purl.obolibrary.org/obo/CHEBI_132082\thttps://uswest.ensembl.org/Homo_sapiens/Transcript/Summary?t=ENST00000483633\t{'predicate': rdflib.term.URIRef('http://purl.obolibrary.org/obo/RO_0002434'), 'key': 39230}\n",
      "http://purl.obolibrary.org/obo/CHEBI_132082\thttp://purl.obolibrary.org/obo/GO_0051962\t{'predicate': rdflib.term.URIRef('http://purl.obolibrary.org/obo/RO_0002436'), 'key': 39231}\n",
      "http://purl.obolibrary.org/obo/CHEBI_132082\thttps://uswest.ensembl.org/Homo_sapiens/Transcript/Summary?t=ENST00000493794\t{'predicate': rdflib.term.URIRef('http://purl.obolibrary.org/obo/RO_0002434'), 'key': 39232}\n",
      "http://purl.obolibrary.org/obo/CHEBI_132082\thttps://uswest.ensembl.org/Homo_sapiens/Transcript/Summary?t=ENST00000619420\t{'predicate': rdflib.term.URIRef('http://purl.obolibrary.org/obo/RO_0002434'), 'key': 39233}\n",
      "http://purl.obolibrary.org/obo/CHEBI_132082\thttps://uswest.ensembl.org/Homo_sapiens/Transcript/Summary?t=ENST00000542011\t{'predicate': rdflib.term.URIRef('http://purl.obolibrary.org/obo/RO_0002434'), 'key': 39234}\n",
      "http://purl.obolibrary.org/obo/CHEBI_132082\thttps://uswest.ensembl.org/Homo_sapiens/Transcript/Summary?t=ENST00000640148\t{'predicate': rdflib.term.URIRef('http://purl.obolibrary.org/obo/RO_0002434'), 'key': 39235}\n",
      "http://purl.obolibrary.org/obo/CHEBI_132082\thttps://uswest.ensembl.org/Homo_sapiens/Transcript/Summary?t=ENST00000668572\t{'predicate': rdflib.term.URIRef('http://purl.obolibrary.org/obo/RO_0002434'), 'key': 39236}\n",
      "http://purl.obolibrary.org/obo/CHEBI_132082\thttp://purl.obolibrary.org/obo/GO_0032550\t{'predicate': rdflib.term.URIRef('http://purl.obolibrary.org/obo/RO_0002436'), 'key': 39237}\n"
     ]
    }
   ],
   "source": [
    "# A sample of what this new graph looks like\n",
    "i = 0\n",
    "for s, o, data in nx_mdg_interacts.edges(data=True):\n",
    "    if i == 200:\n",
    "        break\n",
    "    \n",
    "    print('{}\\t{}\\t{}'.format(s,o,data))\n",
    "    i += 1"
   ]
  },
  {
   "cell_type": "code",
   "execution_count": null,
   "metadata": {},
   "outputs": [],
   "source": [
    "# From https://stackoverflow.com/questions/37183749/how-to-find-two-randoms-nodes-with-no-edges-between-them-in-graph\n",
    "def select_2_random_unconnected_nodes(node_list, graph):\n",
    "    selected_node = random.choice(list(node_list))\n",
    "    print('Randomly selected node: {}'.format(selected_node))\n",
    "  \n",
    "    # obtain all the nodes connected to the selected node\n",
    "    connected_nodes = [n for _, n in graph.edges(selected_node)]\n",
    "\n",
    "    print('All nodes connected to the randomly selected node: {}'.format(connected_nodes + [selected_node]))\n",
    "\n",
    "    # a feasible node is one not in connected_nodes and also not the first selected_node\n",
    "    feasible_nodes = [feasible_n for feasible_n in node_list if feasible_n not in connected_nodes + [selected_node]]\n",
    "\n",
    "    # select a second node from the feasible_nodes list\n",
    "    select_second_node = random.choice(feasible_nodes)\n",
    "\n",
    "    return selected_node, select_second_node\n",
    "  "
   ]
  },
  {
   "cell_type": "code",
   "execution_count": null,
   "metadata": {},
   "outputs": [],
   "source": [
    "import random\n",
    "nodes = nx_mdg_interacts.nodes()\n",
    "\n",
    "(selected_node, select_second_node) = select_2_random_unconnected_nodes(nodes,nx_mdg_interacts)\n",
    "print('\\nselected_node: {}\\n\\nnon-connected node:{}'.format(selected_node, select_second_node))"
   ]
  },
  {
   "cell_type": "code",
   "execution_count": 60,
   "metadata": {},
   "outputs": [
    {
     "name": "stderr",
     "output_type": "stream",
     "text": [
      "Computing transition probabilities: 100%|██████████| 14521/14521 [00:10<00:00, 1443.09it/s]\n",
      "Generating walks (CPU: 1): 100%|██████████| 5/5 [00:02<00:00,  2.09it/s]\n"
     ]
    }
   ],
   "source": [
    "node2vec = Node2Vec(nx_mdg_interacts, dimensions=30, walk_length=10, num_walks=5, workers=1)"
   ]
  },
  {
   "cell_type": "code",
   "execution_count": 61,
   "metadata": {},
   "outputs": [],
   "source": [
    "model = node2vec.fit(window=10, min_count=1, batch_words=4)"
   ]
  },
  {
   "cell_type": "code",
   "execution_count": 62,
   "metadata": {},
   "outputs": [],
   "source": [
    "model.save('PheKnowLator_full_InverseRelations_NotClosed_OWLNETS_INTERACTS.model')"
   ]
  },
  {
   "cell_type": "code",
   "execution_count": 16,
   "metadata": {},
   "outputs": [],
   "source": [
    "## Uncomment this and run it to reload the model from a file if you have already created it\n",
    "from gensim.models import Word2Vec\n",
    "model = Word2Vec.load('PheKnowLator_full_InverseRelations_NotClosed_OWLNETS_INTERACTS.model')"
   ]
  },
  {
   "cell_type": "code",
   "execution_count": null,
   "metadata": {},
   "outputs": [],
   "source": [
    "print(model.wv.vocab)"
   ]
  },
  {
   "cell_type": "code",
   "execution_count": 64,
   "metadata": {},
   "outputs": [
    {
     "data": {
      "text/plain": [
       "array([ 0.5383423 ,  0.13687564, -0.08844738, -0.4704808 ,  0.70583504,\n",
       "       -0.08056314,  0.3609822 ,  0.7107623 ,  0.3812658 , -0.20181724,\n",
       "        1.1912521 ,  0.9447325 , -0.9787167 , -0.12856221,  0.876893  ,\n",
       "       -0.671307  , -0.36094308,  0.2095743 ,  0.03721024, -0.10984633,\n",
       "        0.5896993 ,  0.4692861 ,  0.24264102,  0.9894832 , -0.7243074 ,\n",
       "       -0.07927914, -0.05194373, -1.1407896 ,  0.92476183, -0.2196852 ],\n",
       "      dtype=float32)"
      ]
     },
     "execution_count": 64,
     "metadata": {},
     "output_type": "execute_result"
    }
   ],
   "source": [
    "# entinostat\n",
    "model.wv.get_vector('http://purl.obolibrary.org/obo/CHEBI_132082')"
   ]
  },
  {
   "cell_type": "code",
   "execution_count": 66,
   "metadata": {},
   "outputs": [
    {
     "data": {
      "text/plain": [
       "[('http://purl.obolibrary.org/obo/CHEBI_9908', 0.9994221925735474),\n",
       " ('http://purl.obolibrary.org/obo/PR_000008321', 0.999323308467865),\n",
       " ('http://purl.obolibrary.org/obo/PR_P09341', 0.999305248260498),\n",
       " ('http://purl.obolibrary.org/obo/PR_P46934', 0.999260425567627),\n",
       " ('http://purl.obolibrary.org/obo/CHEBI_37659', 0.9992169737815857),\n",
       " ('http://purl.obolibrary.org/obo/CHEBI_16118', 0.9992163181304932),\n",
       " ('http://purl.obolibrary.org/obo/CHEBI_6980', 0.9992071986198425),\n",
       " ('http://purl.obolibrary.org/obo/PR_000014076', 0.999179482460022),\n",
       " ('http://purl.obolibrary.org/obo/CHEBI_28445', 0.9991783499717712),\n",
       " ('http://purl.obolibrary.org/obo/PR_Q9HBM1', 0.9991737604141235)]"
      ]
     },
     "execution_count": 66,
     "metadata": {},
     "output_type": "execute_result"
    }
   ],
   "source": [
    "model.wv.most_similar('http://purl.obolibrary.org/obo/CHEBI_132082')"
   ]
  },
  {
   "cell_type": "code",
   "execution_count": 67,
   "metadata": {},
   "outputs": [
    {
     "data": {
      "text/plain": [
       "array([ 1.11695072e-02,  2.70528905e-03, -7.11266650e-03,  6.21647900e-03,\n",
       "        2.50877012e-02, -5.23969159e-03,  9.80134774e-03,  2.69477107e-02,\n",
       "       -1.24853160e-02, -1.41592976e-03,  1.45947505e-02,  1.83813870e-02,\n",
       "        5.69508411e-05,  1.03864889e-03,  1.46188363e-02, -1.01599386e-02,\n",
       "       -1.07991276e-02,  6.58706808e-03, -5.68754971e-03,  5.23295300e-03,\n",
       "        8.83659907e-03, -1.34815963e-03,  1.75206829e-02,  1.67271942e-02,\n",
       "       -1.01268003e-02, -1.88999046e-02, -6.08671131e-03, -1.34553462e-02,\n",
       "       -8.26150994e-04,  6.22922368e-03], dtype=float32)"
      ]
     },
     "execution_count": 67,
     "metadata": {},
     "output_type": "execute_result"
    }
   ],
   "source": [
    "# positive regulation of nervous system development\n",
    "model.wv.get_vector('http://purl.obolibrary.org/obo/GO_0051962')"
   ]
  },
  {
   "cell_type": "code",
   "execution_count": 68,
   "metadata": {},
   "outputs": [
    {
     "data": {
      "text/plain": [
       "[('https://uswest.ensembl.org/Homo_sapiens/Transcript/Summary?t=ENST00000366131',\n",
       "  0.8030844330787659),\n",
       " ('https://uswest.ensembl.org/Homo_sapiens/Transcript/Summary?t=ENST00000619420',\n",
       "  0.8003867864608765),\n",
       " ('http://purl.obolibrary.org/obo/PR_000004339', 0.7990934252738953),\n",
       " ('http://purl.obolibrary.org/obo/CHEBI_73237', 0.7943668365478516),\n",
       " ('http://purl.obolibrary.org/obo/PR_000005385', 0.7844266891479492),\n",
       " ('https://uswest.ensembl.org/Homo_sapiens/Transcript/Summary?t=ENST00000490763',\n",
       "  0.7814849615097046),\n",
       " ('http://purl.obolibrary.org/obo/PR_Q12913', 0.7788965702056885),\n",
       " ('http://purl.obolibrary.org/obo/PR_P62837', 0.7776200175285339),\n",
       " ('https://uswest.ensembl.org/Homo_sapiens/Transcript/Summary?t=ENST00000672591',\n",
       "  0.7769244909286499),\n",
       " ('http://purl.obolibrary.org/obo/CHEBI_73162', 0.7742947340011597)]"
      ]
     },
     "execution_count": 68,
     "metadata": {},
     "output_type": "execute_result"
    }
   ],
   "source": [
    "model.wv.most_similar('http://purl.obolibrary.org/obo/GO_0051962')"
   ]
  },
  {
   "cell_type": "code",
   "execution_count": 69,
   "metadata": {},
   "outputs": [
    {
     "data": {
      "text/plain": [
       "[('https://uswest.ensembl.org/Homo_sapiens/Transcript/Summary?t=ENST00000368112',\n",
       "  0.5666130781173706),\n",
       " ('https://uswest.ensembl.org/Homo_sapiens/Transcript/Summary?t=ENST00000470382',\n",
       "  0.5283974409103394),\n",
       " ('https://uswest.ensembl.org/Homo_sapiens/Transcript/Summary?t=ENST00000483991',\n",
       "  0.5206739902496338),\n",
       " ('https://uswest.ensembl.org/Homo_sapiens/Transcript/Summary?t=ENST00000514756',\n",
       "  0.509303092956543),\n",
       " ('https://uswest.ensembl.org/Homo_sapiens/Transcript/Summary?t=ENST00000427021',\n",
       "  0.5004165172576904),\n",
       " ('http://purl.obolibrary.org/obo/GO_1904724', 0.4951947331428528),\n",
       " ('https://uswest.ensembl.org/Homo_sapiens/Transcript/Summary?t=ENST00000222597',\n",
       "  0.468858927488327),\n",
       " ('http://purl.obolibrary.org/obo/PR_000002207', 0.4671010971069336),\n",
       " ('https://www.ncbi.nlm.nih.gov/gene/90665', 0.4600873589515686),\n",
       " ('https://uswest.ensembl.org/Homo_sapiens/Transcript/Summary?t=ENST00000443943',\n",
       "  0.45980921387672424)]"
      ]
     },
     "execution_count": 69,
     "metadata": {},
     "output_type": "execute_result"
    }
   ],
   "source": [
    "# positive=purine ribonucleoside binding and negative=positive regulation of nervous system development\n",
    "model.wv.most_similar(positive=['http://purl.obolibrary.org/obo/GO_0032550'],negative=['http://purl.obolibrary.org/obo/GO_0051962'])"
   ]
  },
  {
   "cell_type": "markdown",
   "metadata": {},
   "source": [
    "The next cells train a model for link prediction using the embeddings. We start by building an adjacency matrix and then traversing it to find the positions of the zeros which represent node pairs that are not connected in the graph.  "
   ]
  },
  {
   "cell_type": "code",
   "execution_count": 70,
   "metadata": {},
   "outputs": [],
   "source": [
    "nodelist = []\n",
    "nds = nx_mdg_interacts.nodes()\n",
    "for n in nds:\n",
    "    nodelist.append(n)"
   ]
  },
  {
   "cell_type": "code",
   "execution_count": 71,
   "metadata": {},
   "outputs": [],
   "source": [
    "# build adjacency matrix\n",
    "adj_G = nx.to_numpy_matrix(nx_mdg_interacts,nodelist)"
   ]
  },
  {
   "cell_type": "code",
   "execution_count": 72,
   "metadata": {},
   "outputs": [
    {
     "data": {
      "text/plain": [
       "(14521, 14521)"
      ]
     },
     "execution_count": 72,
     "metadata": {},
     "output_type": "execute_result"
    }
   ],
   "source": [
    "adj_G.shape"
   ]
  },
  {
   "cell_type": "code",
   "execution_count": null,
   "metadata": {},
   "outputs": [],
   "source": [
    "# get unconnected node-pairs\n",
    "all_unconnected_pairs = [None]*(adj_G.shape[0]*adj_G.shape[1])\n",
    "all_connected_pairs = [None]*(adj_G.shape[0]*adj_G.shape[1])\n",
    "\n",
    "# traverse adjacency matrix (iterate columns by rows)\n",
    "offset = 0\n",
    "for i in range(adj_G.shape[0]):\n",
    "  for j in range(offset,adj_G.shape[1]):\n",
    "    if i != j:\n",
    "        if adj_G[i,j] == 0:\n",
    "          all_unconnected_pairs[i+j] = (nodelist[i],nodelist[j])\n",
    "        else:            \n",
    "          all_connected_pairs[i+j] = (nodelist[i],nodelist[j])\n",
    "\n",
    "  offset = offset + 1"
   ]
  },
  {
   "cell_type": "code",
   "execution_count": 85,
   "metadata": {},
   "outputs": [],
   "source": [
    "import pandas as pd\n",
    "\n",
    "all_connected_pairs_clean = [x for x in filter(lambda x: x != None, all_connected_pairs)]\n",
    "node_1_linked = [i[0] for i in all_connected_pairs_clean]\n",
    "node_2_linked = [i[1] for i in all_connected_pairs_clean]\n",
    "original_g_df = pd.DataFrame({'node_1':node_1_linked, \n",
    "                              'node_2':node_2_linked})\n",
    "\n",
    "all_unconnected_pairs_clean = [x for x in filter(lambda x: x != None, all_unconnected_pairs)]\n",
    "node_1_unlinked = [i[0] for i in all_unconnected_pairs_clean]\n",
    "node_2_unlinked = [i[1] for i in all_unconnected_pairs_clean]\n",
    "data = pd.DataFrame({'node_1':node_1_unlinked, \n",
    "                     'node_2':node_2_unlinked})\n",
    "\n",
    "# add target variable 'link'\n",
    "data['link'] = 0"
   ]
  },
  {
   "cell_type": "code",
   "execution_count": 86,
   "metadata": {},
   "outputs": [
    {
     "data": {
      "text/plain": [
       "(15524, 2)"
      ]
     },
     "execution_count": 86,
     "metadata": {},
     "output_type": "execute_result"
    }
   ],
   "source": [
    "original_g_df.shape"
   ]
  },
  {
   "cell_type": "code",
   "execution_count": 87,
   "metadata": {},
   "outputs": [
    {
     "data": {
      "text/plain": [
       "29037"
      ]
     },
     "execution_count": 87,
     "metadata": {},
     "output_type": "execute_result"
    }
   ],
   "source": [
    "len(all_unconnected_pairs_clean)"
   ]
  },
  {
   "cell_type": "code",
   "execution_count": 77,
   "metadata": {},
   "outputs": [
    {
     "data": {
      "text/plain": [
       "(29037, 3)"
      ]
     },
     "execution_count": 77,
     "metadata": {},
     "output_type": "execute_result"
    }
   ],
   "source": [
    "data.shape"
   ]
  },
  {
   "cell_type": "code",
   "execution_count": 78,
   "metadata": {},
   "outputs": [],
   "source": [
    "import pickle\n",
    "f = open('original_g_df.pickle','wb')\n",
    "pickle.dump(original_g_df,f)\n",
    "f.close()\n",
    "\n",
    "f = open('data.pickle','wb')\n",
    "pickle.dump(data,f)\n",
    "f.close()"
   ]
  },
  {
   "cell_type": "code",
   "execution_count": 79,
   "metadata": {},
   "outputs": [
    {
     "data": {
      "text/html": [
       "<div>\n",
       "<style scoped>\n",
       "    .dataframe tbody tr th:only-of-type {\n",
       "        vertical-align: middle;\n",
       "    }\n",
       "\n",
       "    .dataframe tbody tr th {\n",
       "        vertical-align: top;\n",
       "    }\n",
       "\n",
       "    .dataframe thead th {\n",
       "        text-align: right;\n",
       "    }\n",
       "</style>\n",
       "<table border=\"1\" class=\"dataframe\">\n",
       "  <thead>\n",
       "    <tr style=\"text-align: right;\">\n",
       "      <th></th>\n",
       "      <th>node_1</th>\n",
       "      <th>node_2</th>\n",
       "    </tr>\n",
       "  </thead>\n",
       "  <tbody>\n",
       "    <tr>\n",
       "      <th>0</th>\n",
       "      <td>http://purl.obolibrary.org/obo/CHEBI_46024</td>\n",
       "      <td>https://uswest.ensembl.org/Homo_sapiens/Transc...</td>\n",
       "    </tr>\n",
       "    <tr>\n",
       "      <th>1</th>\n",
       "      <td>http://purl.obolibrary.org/obo/CHEBI_46024</td>\n",
       "      <td>https://uswest.ensembl.org/Homo_sapiens/Transc...</td>\n",
       "    </tr>\n",
       "    <tr>\n",
       "      <th>2</th>\n",
       "      <td>http://purl.obolibrary.org/obo/CHEBI_46024</td>\n",
       "      <td>https://uswest.ensembl.org/Homo_sapiens/Transc...</td>\n",
       "    </tr>\n",
       "    <tr>\n",
       "      <th>3</th>\n",
       "      <td>http://purl.obolibrary.org/obo/CHEBI_46024</td>\n",
       "      <td>https://uswest.ensembl.org/Homo_sapiens/Transc...</td>\n",
       "    </tr>\n",
       "    <tr>\n",
       "      <th>4</th>\n",
       "      <td>http://purl.obolibrary.org/obo/CHEBI_46024</td>\n",
       "      <td>https://uswest.ensembl.org/Homo_sapiens/Transc...</td>\n",
       "    </tr>\n",
       "    <tr>\n",
       "      <th>5</th>\n",
       "      <td>http://purl.obolibrary.org/obo/CHEBI_46024</td>\n",
       "      <td>https://uswest.ensembl.org/Homo_sapiens/Transc...</td>\n",
       "    </tr>\n",
       "    <tr>\n",
       "      <th>6</th>\n",
       "      <td>http://purl.obolibrary.org/obo/CHEBI_46024</td>\n",
       "      <td>http://purl.obolibrary.org/obo/GO_0005741</td>\n",
       "    </tr>\n",
       "    <tr>\n",
       "      <th>7</th>\n",
       "      <td>http://purl.obolibrary.org/obo/CHEBI_46024</td>\n",
       "      <td>https://uswest.ensembl.org/Homo_sapiens/Transc...</td>\n",
       "    </tr>\n",
       "    <tr>\n",
       "      <th>8</th>\n",
       "      <td>http://purl.obolibrary.org/obo/CHEBI_46024</td>\n",
       "      <td>https://uswest.ensembl.org/Homo_sapiens/Transc...</td>\n",
       "    </tr>\n",
       "    <tr>\n",
       "      <th>9</th>\n",
       "      <td>http://purl.obolibrary.org/obo/CHEBI_46024</td>\n",
       "      <td>https://uswest.ensembl.org/Homo_sapiens/Transc...</td>\n",
       "    </tr>\n",
       "    <tr>\n",
       "      <th>10</th>\n",
       "      <td>http://purl.obolibrary.org/obo/CHEBI_46024</td>\n",
       "      <td>https://uswest.ensembl.org/Homo_sapiens/Transc...</td>\n",
       "    </tr>\n",
       "    <tr>\n",
       "      <th>11</th>\n",
       "      <td>http://purl.obolibrary.org/obo/CHEBI_46024</td>\n",
       "      <td>https://uswest.ensembl.org/Homo_sapiens/Transc...</td>\n",
       "    </tr>\n",
       "    <tr>\n",
       "      <th>12</th>\n",
       "      <td>http://purl.obolibrary.org/obo/CHEBI_46024</td>\n",
       "      <td>https://uswest.ensembl.org/Homo_sapiens/Transc...</td>\n",
       "    </tr>\n",
       "    <tr>\n",
       "      <th>13</th>\n",
       "      <td>http://purl.obolibrary.org/obo/CHEBI_46024</td>\n",
       "      <td>https://uswest.ensembl.org/Homo_sapiens/Transc...</td>\n",
       "    </tr>\n",
       "    <tr>\n",
       "      <th>14</th>\n",
       "      <td>http://purl.obolibrary.org/obo/CHEBI_46024</td>\n",
       "      <td>https://uswest.ensembl.org/Homo_sapiens/Transc...</td>\n",
       "    </tr>\n",
       "    <tr>\n",
       "      <th>15</th>\n",
       "      <td>http://purl.obolibrary.org/obo/CHEBI_46024</td>\n",
       "      <td>https://uswest.ensembl.org/Homo_sapiens/Transc...</td>\n",
       "    </tr>\n",
       "    <tr>\n",
       "      <th>16</th>\n",
       "      <td>http://purl.obolibrary.org/obo/CHEBI_46024</td>\n",
       "      <td>https://uswest.ensembl.org/Homo_sapiens/Transc...</td>\n",
       "    </tr>\n",
       "    <tr>\n",
       "      <th>17</th>\n",
       "      <td>http://purl.obolibrary.org/obo/CHEBI_46024</td>\n",
       "      <td>https://uswest.ensembl.org/Homo_sapiens/Transc...</td>\n",
       "    </tr>\n",
       "    <tr>\n",
       "      <th>18</th>\n",
       "      <td>http://purl.obolibrary.org/obo/CHEBI_46024</td>\n",
       "      <td>https://uswest.ensembl.org/Homo_sapiens/Transc...</td>\n",
       "    </tr>\n",
       "    <tr>\n",
       "      <th>19</th>\n",
       "      <td>http://purl.obolibrary.org/obo/CHEBI_46024</td>\n",
       "      <td>https://uswest.ensembl.org/Homo_sapiens/Transc...</td>\n",
       "    </tr>\n",
       "    <tr>\n",
       "      <th>20</th>\n",
       "      <td>http://purl.obolibrary.org/obo/CHEBI_46024</td>\n",
       "      <td>https://uswest.ensembl.org/Homo_sapiens/Transc...</td>\n",
       "    </tr>\n",
       "    <tr>\n",
       "      <th>21</th>\n",
       "      <td>http://purl.obolibrary.org/obo/CHEBI_46024</td>\n",
       "      <td>https://uswest.ensembl.org/Homo_sapiens/Transc...</td>\n",
       "    </tr>\n",
       "    <tr>\n",
       "      <th>22</th>\n",
       "      <td>http://purl.obolibrary.org/obo/CHEBI_46024</td>\n",
       "      <td>https://uswest.ensembl.org/Homo_sapiens/Transc...</td>\n",
       "    </tr>\n",
       "    <tr>\n",
       "      <th>23</th>\n",
       "      <td>http://purl.obolibrary.org/obo/CHEBI_46024</td>\n",
       "      <td>https://uswest.ensembl.org/Homo_sapiens/Transc...</td>\n",
       "    </tr>\n",
       "    <tr>\n",
       "      <th>24</th>\n",
       "      <td>http://purl.obolibrary.org/obo/CHEBI_46024</td>\n",
       "      <td>https://uswest.ensembl.org/Homo_sapiens/Transc...</td>\n",
       "    </tr>\n",
       "    <tr>\n",
       "      <th>25</th>\n",
       "      <td>http://purl.obolibrary.org/obo/CHEBI_46024</td>\n",
       "      <td>http://purl.obolibrary.org/obo/GO_0000922</td>\n",
       "    </tr>\n",
       "    <tr>\n",
       "      <th>26</th>\n",
       "      <td>http://purl.obolibrary.org/obo/CHEBI_46024</td>\n",
       "      <td>http://purl.obolibrary.org/obo/PR_Q9H3D4</td>\n",
       "    </tr>\n",
       "    <tr>\n",
       "      <th>27</th>\n",
       "      <td>http://purl.obolibrary.org/obo/CHEBI_46024</td>\n",
       "      <td>http://purl.obolibrary.org/obo/GO_0043087</td>\n",
       "    </tr>\n",
       "    <tr>\n",
       "      <th>28</th>\n",
       "      <td>http://purl.obolibrary.org/obo/CHEBI_46024</td>\n",
       "      <td>https://uswest.ensembl.org/Homo_sapiens/Transc...</td>\n",
       "    </tr>\n",
       "    <tr>\n",
       "      <th>29</th>\n",
       "      <td>http://purl.obolibrary.org/obo/CHEBI_46024</td>\n",
       "      <td>https://uswest.ensembl.org/Homo_sapiens/Transc...</td>\n",
       "    </tr>\n",
       "  </tbody>\n",
       "</table>\n",
       "</div>"
      ],
      "text/plain": [
       "                                        node_1  \\\n",
       "0   http://purl.obolibrary.org/obo/CHEBI_46024   \n",
       "1   http://purl.obolibrary.org/obo/CHEBI_46024   \n",
       "2   http://purl.obolibrary.org/obo/CHEBI_46024   \n",
       "3   http://purl.obolibrary.org/obo/CHEBI_46024   \n",
       "4   http://purl.obolibrary.org/obo/CHEBI_46024   \n",
       "5   http://purl.obolibrary.org/obo/CHEBI_46024   \n",
       "6   http://purl.obolibrary.org/obo/CHEBI_46024   \n",
       "7   http://purl.obolibrary.org/obo/CHEBI_46024   \n",
       "8   http://purl.obolibrary.org/obo/CHEBI_46024   \n",
       "9   http://purl.obolibrary.org/obo/CHEBI_46024   \n",
       "10  http://purl.obolibrary.org/obo/CHEBI_46024   \n",
       "11  http://purl.obolibrary.org/obo/CHEBI_46024   \n",
       "12  http://purl.obolibrary.org/obo/CHEBI_46024   \n",
       "13  http://purl.obolibrary.org/obo/CHEBI_46024   \n",
       "14  http://purl.obolibrary.org/obo/CHEBI_46024   \n",
       "15  http://purl.obolibrary.org/obo/CHEBI_46024   \n",
       "16  http://purl.obolibrary.org/obo/CHEBI_46024   \n",
       "17  http://purl.obolibrary.org/obo/CHEBI_46024   \n",
       "18  http://purl.obolibrary.org/obo/CHEBI_46024   \n",
       "19  http://purl.obolibrary.org/obo/CHEBI_46024   \n",
       "20  http://purl.obolibrary.org/obo/CHEBI_46024   \n",
       "21  http://purl.obolibrary.org/obo/CHEBI_46024   \n",
       "22  http://purl.obolibrary.org/obo/CHEBI_46024   \n",
       "23  http://purl.obolibrary.org/obo/CHEBI_46024   \n",
       "24  http://purl.obolibrary.org/obo/CHEBI_46024   \n",
       "25  http://purl.obolibrary.org/obo/CHEBI_46024   \n",
       "26  http://purl.obolibrary.org/obo/CHEBI_46024   \n",
       "27  http://purl.obolibrary.org/obo/CHEBI_46024   \n",
       "28  http://purl.obolibrary.org/obo/CHEBI_46024   \n",
       "29  http://purl.obolibrary.org/obo/CHEBI_46024   \n",
       "\n",
       "                                               node_2  \n",
       "0   https://uswest.ensembl.org/Homo_sapiens/Transc...  \n",
       "1   https://uswest.ensembl.org/Homo_sapiens/Transc...  \n",
       "2   https://uswest.ensembl.org/Homo_sapiens/Transc...  \n",
       "3   https://uswest.ensembl.org/Homo_sapiens/Transc...  \n",
       "4   https://uswest.ensembl.org/Homo_sapiens/Transc...  \n",
       "5   https://uswest.ensembl.org/Homo_sapiens/Transc...  \n",
       "6           http://purl.obolibrary.org/obo/GO_0005741  \n",
       "7   https://uswest.ensembl.org/Homo_sapiens/Transc...  \n",
       "8   https://uswest.ensembl.org/Homo_sapiens/Transc...  \n",
       "9   https://uswest.ensembl.org/Homo_sapiens/Transc...  \n",
       "10  https://uswest.ensembl.org/Homo_sapiens/Transc...  \n",
       "11  https://uswest.ensembl.org/Homo_sapiens/Transc...  \n",
       "12  https://uswest.ensembl.org/Homo_sapiens/Transc...  \n",
       "13  https://uswest.ensembl.org/Homo_sapiens/Transc...  \n",
       "14  https://uswest.ensembl.org/Homo_sapiens/Transc...  \n",
       "15  https://uswest.ensembl.org/Homo_sapiens/Transc...  \n",
       "16  https://uswest.ensembl.org/Homo_sapiens/Transc...  \n",
       "17  https://uswest.ensembl.org/Homo_sapiens/Transc...  \n",
       "18  https://uswest.ensembl.org/Homo_sapiens/Transc...  \n",
       "19  https://uswest.ensembl.org/Homo_sapiens/Transc...  \n",
       "20  https://uswest.ensembl.org/Homo_sapiens/Transc...  \n",
       "21  https://uswest.ensembl.org/Homo_sapiens/Transc...  \n",
       "22  https://uswest.ensembl.org/Homo_sapiens/Transc...  \n",
       "23  https://uswest.ensembl.org/Homo_sapiens/Transc...  \n",
       "24  https://uswest.ensembl.org/Homo_sapiens/Transc...  \n",
       "25          http://purl.obolibrary.org/obo/GO_0000922  \n",
       "26           http://purl.obolibrary.org/obo/PR_Q9H3D4  \n",
       "27          http://purl.obolibrary.org/obo/GO_0043087  \n",
       "28  https://uswest.ensembl.org/Homo_sapiens/Transc...  \n",
       "29  https://uswest.ensembl.org/Homo_sapiens/Transc...  "
      ]
     },
     "execution_count": 79,
     "metadata": {},
     "output_type": "execute_result"
    }
   ],
   "source": [
    "original_g_df.head(30)"
   ]
  },
  {
   "cell_type": "code",
   "execution_count": 80,
   "metadata": {},
   "outputs": [
    {
     "data": {
      "text/html": [
       "<div>\n",
       "<style scoped>\n",
       "    .dataframe tbody tr th:only-of-type {\n",
       "        vertical-align: middle;\n",
       "    }\n",
       "\n",
       "    .dataframe tbody tr th {\n",
       "        vertical-align: top;\n",
       "    }\n",
       "\n",
       "    .dataframe thead th {\n",
       "        text-align: right;\n",
       "    }\n",
       "</style>\n",
       "<table border=\"1\" class=\"dataframe\">\n",
       "  <thead>\n",
       "    <tr style=\"text-align: right;\">\n",
       "      <th></th>\n",
       "      <th>node_1</th>\n",
       "      <th>node_2</th>\n",
       "      <th>link</th>\n",
       "    </tr>\n",
       "  </thead>\n",
       "  <tbody>\n",
       "    <tr>\n",
       "      <th>0</th>\n",
       "      <td>https://uswest.ensembl.org/Homo_sapiens/Transc...</td>\n",
       "      <td>https://uswest.ensembl.org/Homo_sapiens/Transc...</td>\n",
       "      <td>0</td>\n",
       "    </tr>\n",
       "    <tr>\n",
       "      <th>1</th>\n",
       "      <td>https://uswest.ensembl.org/Homo_sapiens/Transc...</td>\n",
       "      <td>https://uswest.ensembl.org/Homo_sapiens/Transc...</td>\n",
       "      <td>0</td>\n",
       "    </tr>\n",
       "    <tr>\n",
       "      <th>2</th>\n",
       "      <td>https://uswest.ensembl.org/Homo_sapiens/Transc...</td>\n",
       "      <td>https://uswest.ensembl.org/Homo_sapiens/Transc...</td>\n",
       "      <td>0</td>\n",
       "    </tr>\n",
       "    <tr>\n",
       "      <th>3</th>\n",
       "      <td>https://uswest.ensembl.org/Homo_sapiens/Transc...</td>\n",
       "      <td>https://uswest.ensembl.org/Homo_sapiens/Transc...</td>\n",
       "      <td>0</td>\n",
       "    </tr>\n",
       "    <tr>\n",
       "      <th>4</th>\n",
       "      <td>https://uswest.ensembl.org/Homo_sapiens/Transc...</td>\n",
       "      <td>https://uswest.ensembl.org/Homo_sapiens/Transc...</td>\n",
       "      <td>0</td>\n",
       "    </tr>\n",
       "    <tr>\n",
       "      <th>5</th>\n",
       "      <td>https://uswest.ensembl.org/Homo_sapiens/Transc...</td>\n",
       "      <td>https://uswest.ensembl.org/Homo_sapiens/Transc...</td>\n",
       "      <td>0</td>\n",
       "    </tr>\n",
       "    <tr>\n",
       "      <th>6</th>\n",
       "      <td>https://uswest.ensembl.org/Homo_sapiens/Transc...</td>\n",
       "      <td>https://uswest.ensembl.org/Homo_sapiens/Transc...</td>\n",
       "      <td>0</td>\n",
       "    </tr>\n",
       "    <tr>\n",
       "      <th>7</th>\n",
       "      <td>https://uswest.ensembl.org/Homo_sapiens/Transc...</td>\n",
       "      <td>https://uswest.ensembl.org/Homo_sapiens/Transc...</td>\n",
       "      <td>0</td>\n",
       "    </tr>\n",
       "    <tr>\n",
       "      <th>8</th>\n",
       "      <td>https://uswest.ensembl.org/Homo_sapiens/Transc...</td>\n",
       "      <td>https://uswest.ensembl.org/Homo_sapiens/Transc...</td>\n",
       "      <td>0</td>\n",
       "    </tr>\n",
       "    <tr>\n",
       "      <th>9</th>\n",
       "      <td>https://uswest.ensembl.org/Homo_sapiens/Transc...</td>\n",
       "      <td>http://purl.obolibrary.org/obo/GO_0005741</td>\n",
       "      <td>0</td>\n",
       "    </tr>\n",
       "    <tr>\n",
       "      <th>10</th>\n",
       "      <td>https://uswest.ensembl.org/Homo_sapiens/Transc...</td>\n",
       "      <td>http://purl.obolibrary.org/obo/GO_0005741</td>\n",
       "      <td>0</td>\n",
       "    </tr>\n",
       "    <tr>\n",
       "      <th>11</th>\n",
       "      <td>https://uswest.ensembl.org/Homo_sapiens/Transc...</td>\n",
       "      <td>https://uswest.ensembl.org/Homo_sapiens/Transc...</td>\n",
       "      <td>0</td>\n",
       "    </tr>\n",
       "    <tr>\n",
       "      <th>12</th>\n",
       "      <td>http://purl.obolibrary.org/obo/GO_0005741</td>\n",
       "      <td>https://uswest.ensembl.org/Homo_sapiens/Transc...</td>\n",
       "      <td>0</td>\n",
       "    </tr>\n",
       "    <tr>\n",
       "      <th>13</th>\n",
       "      <td>http://purl.obolibrary.org/obo/GO_0005741</td>\n",
       "      <td>https://uswest.ensembl.org/Homo_sapiens/Transc...</td>\n",
       "      <td>0</td>\n",
       "    </tr>\n",
       "    <tr>\n",
       "      <th>14</th>\n",
       "      <td>https://uswest.ensembl.org/Homo_sapiens/Transc...</td>\n",
       "      <td>https://uswest.ensembl.org/Homo_sapiens/Transc...</td>\n",
       "      <td>0</td>\n",
       "    </tr>\n",
       "    <tr>\n",
       "      <th>15</th>\n",
       "      <td>https://uswest.ensembl.org/Homo_sapiens/Transc...</td>\n",
       "      <td>https://uswest.ensembl.org/Homo_sapiens/Transc...</td>\n",
       "      <td>0</td>\n",
       "    </tr>\n",
       "    <tr>\n",
       "      <th>16</th>\n",
       "      <td>https://uswest.ensembl.org/Homo_sapiens/Transc...</td>\n",
       "      <td>https://uswest.ensembl.org/Homo_sapiens/Transc...</td>\n",
       "      <td>0</td>\n",
       "    </tr>\n",
       "    <tr>\n",
       "      <th>17</th>\n",
       "      <td>https://uswest.ensembl.org/Homo_sapiens/Transc...</td>\n",
       "      <td>https://uswest.ensembl.org/Homo_sapiens/Transc...</td>\n",
       "      <td>0</td>\n",
       "    </tr>\n",
       "    <tr>\n",
       "      <th>18</th>\n",
       "      <td>https://uswest.ensembl.org/Homo_sapiens/Transc...</td>\n",
       "      <td>https://uswest.ensembl.org/Homo_sapiens/Transc...</td>\n",
       "      <td>0</td>\n",
       "    </tr>\n",
       "    <tr>\n",
       "      <th>19</th>\n",
       "      <td>https://uswest.ensembl.org/Homo_sapiens/Transc...</td>\n",
       "      <td>https://uswest.ensembl.org/Homo_sapiens/Transc...</td>\n",
       "      <td>0</td>\n",
       "    </tr>\n",
       "    <tr>\n",
       "      <th>20</th>\n",
       "      <td>https://uswest.ensembl.org/Homo_sapiens/Transc...</td>\n",
       "      <td>https://uswest.ensembl.org/Homo_sapiens/Transc...</td>\n",
       "      <td>0</td>\n",
       "    </tr>\n",
       "    <tr>\n",
       "      <th>21</th>\n",
       "      <td>https://uswest.ensembl.org/Homo_sapiens/Transc...</td>\n",
       "      <td>https://uswest.ensembl.org/Homo_sapiens/Transc...</td>\n",
       "      <td>0</td>\n",
       "    </tr>\n",
       "    <tr>\n",
       "      <th>22</th>\n",
       "      <td>https://uswest.ensembl.org/Homo_sapiens/Transc...</td>\n",
       "      <td>https://uswest.ensembl.org/Homo_sapiens/Transc...</td>\n",
       "      <td>0</td>\n",
       "    </tr>\n",
       "    <tr>\n",
       "      <th>23</th>\n",
       "      <td>https://uswest.ensembl.org/Homo_sapiens/Transc...</td>\n",
       "      <td>https://uswest.ensembl.org/Homo_sapiens/Transc...</td>\n",
       "      <td>0</td>\n",
       "    </tr>\n",
       "    <tr>\n",
       "      <th>24</th>\n",
       "      <td>https://uswest.ensembl.org/Homo_sapiens/Transc...</td>\n",
       "      <td>https://uswest.ensembl.org/Homo_sapiens/Transc...</td>\n",
       "      <td>0</td>\n",
       "    </tr>\n",
       "    <tr>\n",
       "      <th>25</th>\n",
       "      <td>https://uswest.ensembl.org/Homo_sapiens/Transc...</td>\n",
       "      <td>https://uswest.ensembl.org/Homo_sapiens/Transc...</td>\n",
       "      <td>0</td>\n",
       "    </tr>\n",
       "    <tr>\n",
       "      <th>26</th>\n",
       "      <td>https://uswest.ensembl.org/Homo_sapiens/Transc...</td>\n",
       "      <td>https://uswest.ensembl.org/Homo_sapiens/Transc...</td>\n",
       "      <td>0</td>\n",
       "    </tr>\n",
       "    <tr>\n",
       "      <th>27</th>\n",
       "      <td>https://uswest.ensembl.org/Homo_sapiens/Transc...</td>\n",
       "      <td>https://uswest.ensembl.org/Homo_sapiens/Transc...</td>\n",
       "      <td>0</td>\n",
       "    </tr>\n",
       "    <tr>\n",
       "      <th>28</th>\n",
       "      <td>https://uswest.ensembl.org/Homo_sapiens/Transc...</td>\n",
       "      <td>https://uswest.ensembl.org/Homo_sapiens/Transc...</td>\n",
       "      <td>0</td>\n",
       "    </tr>\n",
       "    <tr>\n",
       "      <th>29</th>\n",
       "      <td>https://uswest.ensembl.org/Homo_sapiens/Transc...</td>\n",
       "      <td>https://uswest.ensembl.org/Homo_sapiens/Transc...</td>\n",
       "      <td>0</td>\n",
       "    </tr>\n",
       "  </tbody>\n",
       "</table>\n",
       "</div>"
      ],
      "text/plain": [
       "                                               node_1  \\\n",
       "0   https://uswest.ensembl.org/Homo_sapiens/Transc...   \n",
       "1   https://uswest.ensembl.org/Homo_sapiens/Transc...   \n",
       "2   https://uswest.ensembl.org/Homo_sapiens/Transc...   \n",
       "3   https://uswest.ensembl.org/Homo_sapiens/Transc...   \n",
       "4   https://uswest.ensembl.org/Homo_sapiens/Transc...   \n",
       "5   https://uswest.ensembl.org/Homo_sapiens/Transc...   \n",
       "6   https://uswest.ensembl.org/Homo_sapiens/Transc...   \n",
       "7   https://uswest.ensembl.org/Homo_sapiens/Transc...   \n",
       "8   https://uswest.ensembl.org/Homo_sapiens/Transc...   \n",
       "9   https://uswest.ensembl.org/Homo_sapiens/Transc...   \n",
       "10  https://uswest.ensembl.org/Homo_sapiens/Transc...   \n",
       "11  https://uswest.ensembl.org/Homo_sapiens/Transc...   \n",
       "12          http://purl.obolibrary.org/obo/GO_0005741   \n",
       "13          http://purl.obolibrary.org/obo/GO_0005741   \n",
       "14  https://uswest.ensembl.org/Homo_sapiens/Transc...   \n",
       "15  https://uswest.ensembl.org/Homo_sapiens/Transc...   \n",
       "16  https://uswest.ensembl.org/Homo_sapiens/Transc...   \n",
       "17  https://uswest.ensembl.org/Homo_sapiens/Transc...   \n",
       "18  https://uswest.ensembl.org/Homo_sapiens/Transc...   \n",
       "19  https://uswest.ensembl.org/Homo_sapiens/Transc...   \n",
       "20  https://uswest.ensembl.org/Homo_sapiens/Transc...   \n",
       "21  https://uswest.ensembl.org/Homo_sapiens/Transc...   \n",
       "22  https://uswest.ensembl.org/Homo_sapiens/Transc...   \n",
       "23  https://uswest.ensembl.org/Homo_sapiens/Transc...   \n",
       "24  https://uswest.ensembl.org/Homo_sapiens/Transc...   \n",
       "25  https://uswest.ensembl.org/Homo_sapiens/Transc...   \n",
       "26  https://uswest.ensembl.org/Homo_sapiens/Transc...   \n",
       "27  https://uswest.ensembl.org/Homo_sapiens/Transc...   \n",
       "28  https://uswest.ensembl.org/Homo_sapiens/Transc...   \n",
       "29  https://uswest.ensembl.org/Homo_sapiens/Transc...   \n",
       "\n",
       "                                               node_2  link  \n",
       "0   https://uswest.ensembl.org/Homo_sapiens/Transc...     0  \n",
       "1   https://uswest.ensembl.org/Homo_sapiens/Transc...     0  \n",
       "2   https://uswest.ensembl.org/Homo_sapiens/Transc...     0  \n",
       "3   https://uswest.ensembl.org/Homo_sapiens/Transc...     0  \n",
       "4   https://uswest.ensembl.org/Homo_sapiens/Transc...     0  \n",
       "5   https://uswest.ensembl.org/Homo_sapiens/Transc...     0  \n",
       "6   https://uswest.ensembl.org/Homo_sapiens/Transc...     0  \n",
       "7   https://uswest.ensembl.org/Homo_sapiens/Transc...     0  \n",
       "8   https://uswest.ensembl.org/Homo_sapiens/Transc...     0  \n",
       "9           http://purl.obolibrary.org/obo/GO_0005741     0  \n",
       "10          http://purl.obolibrary.org/obo/GO_0005741     0  \n",
       "11  https://uswest.ensembl.org/Homo_sapiens/Transc...     0  \n",
       "12  https://uswest.ensembl.org/Homo_sapiens/Transc...     0  \n",
       "13  https://uswest.ensembl.org/Homo_sapiens/Transc...     0  \n",
       "14  https://uswest.ensembl.org/Homo_sapiens/Transc...     0  \n",
       "15  https://uswest.ensembl.org/Homo_sapiens/Transc...     0  \n",
       "16  https://uswest.ensembl.org/Homo_sapiens/Transc...     0  \n",
       "17  https://uswest.ensembl.org/Homo_sapiens/Transc...     0  \n",
       "18  https://uswest.ensembl.org/Homo_sapiens/Transc...     0  \n",
       "19  https://uswest.ensembl.org/Homo_sapiens/Transc...     0  \n",
       "20  https://uswest.ensembl.org/Homo_sapiens/Transc...     0  \n",
       "21  https://uswest.ensembl.org/Homo_sapiens/Transc...     0  \n",
       "22  https://uswest.ensembl.org/Homo_sapiens/Transc...     0  \n",
       "23  https://uswest.ensembl.org/Homo_sapiens/Transc...     0  \n",
       "24  https://uswest.ensembl.org/Homo_sapiens/Transc...     0  \n",
       "25  https://uswest.ensembl.org/Homo_sapiens/Transc...     0  \n",
       "26  https://uswest.ensembl.org/Homo_sapiens/Transc...     0  \n",
       "27  https://uswest.ensembl.org/Homo_sapiens/Transc...     0  \n",
       "28  https://uswest.ensembl.org/Homo_sapiens/Transc...     0  \n",
       "29  https://uswest.ensembl.org/Homo_sapiens/Transc...     0  "
      ]
     },
     "execution_count": 80,
     "metadata": {},
     "output_type": "execute_result"
    }
   ],
   "source": [
    "data.head(30)"
   ]
  },
  {
   "cell_type": "code",
   "execution_count": 37,
   "metadata": {},
   "outputs": [],
   "source": [
    "original_g_df_temp = original_g_df.copy()"
   ]
  },
  {
   "cell_type": "code",
   "execution_count": 38,
   "metadata": {},
   "outputs": [
    {
     "data": {
      "text/html": [
       "<div>\n",
       "<style scoped>\n",
       "    .dataframe tbody tr th:only-of-type {\n",
       "        vertical-align: middle;\n",
       "    }\n",
       "\n",
       "    .dataframe tbody tr th {\n",
       "        vertical-align: top;\n",
       "    }\n",
       "\n",
       "    .dataframe thead th {\n",
       "        text-align: right;\n",
       "    }\n",
       "</style>\n",
       "<table border=\"1\" class=\"dataframe\">\n",
       "  <thead>\n",
       "    <tr style=\"text-align: right;\">\n",
       "      <th></th>\n",
       "      <th>node_1</th>\n",
       "      <th>node_2</th>\n",
       "    </tr>\n",
       "  </thead>\n",
       "  <tbody>\n",
       "    <tr>\n",
       "      <th>0</th>\n",
       "      <td>http://purl.obolibrary.org/obo/CHEBI_46024</td>\n",
       "      <td>https://uswest.ensembl.org/Homo_sapiens/Transc...</td>\n",
       "    </tr>\n",
       "    <tr>\n",
       "      <th>1</th>\n",
       "      <td>http://purl.obolibrary.org/obo/CHEBI_46024</td>\n",
       "      <td>https://uswest.ensembl.org/Homo_sapiens/Transc...</td>\n",
       "    </tr>\n",
       "    <tr>\n",
       "      <th>2</th>\n",
       "      <td>http://purl.obolibrary.org/obo/CHEBI_46024</td>\n",
       "      <td>https://uswest.ensembl.org/Homo_sapiens/Transc...</td>\n",
       "    </tr>\n",
       "    <tr>\n",
       "      <th>3</th>\n",
       "      <td>http://purl.obolibrary.org/obo/CHEBI_46024</td>\n",
       "      <td>https://uswest.ensembl.org/Homo_sapiens/Transc...</td>\n",
       "    </tr>\n",
       "    <tr>\n",
       "      <th>4</th>\n",
       "      <td>http://purl.obolibrary.org/obo/CHEBI_46024</td>\n",
       "      <td>https://uswest.ensembl.org/Homo_sapiens/Transc...</td>\n",
       "    </tr>\n",
       "    <tr>\n",
       "      <th>5</th>\n",
       "      <td>http://purl.obolibrary.org/obo/CHEBI_46024</td>\n",
       "      <td>https://uswest.ensembl.org/Homo_sapiens/Transc...</td>\n",
       "    </tr>\n",
       "    <tr>\n",
       "      <th>6</th>\n",
       "      <td>http://purl.obolibrary.org/obo/CHEBI_46024</td>\n",
       "      <td>http://purl.obolibrary.org/obo/GO_0005741</td>\n",
       "    </tr>\n",
       "    <tr>\n",
       "      <th>7</th>\n",
       "      <td>http://purl.obolibrary.org/obo/CHEBI_46024</td>\n",
       "      <td>https://uswest.ensembl.org/Homo_sapiens/Transc...</td>\n",
       "    </tr>\n",
       "    <tr>\n",
       "      <th>8</th>\n",
       "      <td>http://purl.obolibrary.org/obo/CHEBI_46024</td>\n",
       "      <td>https://uswest.ensembl.org/Homo_sapiens/Transc...</td>\n",
       "    </tr>\n",
       "    <tr>\n",
       "      <th>9</th>\n",
       "      <td>http://purl.obolibrary.org/obo/CHEBI_46024</td>\n",
       "      <td>https://uswest.ensembl.org/Homo_sapiens/Transc...</td>\n",
       "    </tr>\n",
       "    <tr>\n",
       "      <th>10</th>\n",
       "      <td>http://purl.obolibrary.org/obo/CHEBI_46024</td>\n",
       "      <td>https://uswest.ensembl.org/Homo_sapiens/Transc...</td>\n",
       "    </tr>\n",
       "    <tr>\n",
       "      <th>11</th>\n",
       "      <td>http://purl.obolibrary.org/obo/CHEBI_46024</td>\n",
       "      <td>https://uswest.ensembl.org/Homo_sapiens/Transc...</td>\n",
       "    </tr>\n",
       "    <tr>\n",
       "      <th>12</th>\n",
       "      <td>http://purl.obolibrary.org/obo/CHEBI_46024</td>\n",
       "      <td>https://uswest.ensembl.org/Homo_sapiens/Transc...</td>\n",
       "    </tr>\n",
       "    <tr>\n",
       "      <th>13</th>\n",
       "      <td>http://purl.obolibrary.org/obo/CHEBI_46024</td>\n",
       "      <td>https://uswest.ensembl.org/Homo_sapiens/Transc...</td>\n",
       "    </tr>\n",
       "    <tr>\n",
       "      <th>14</th>\n",
       "      <td>http://purl.obolibrary.org/obo/CHEBI_46024</td>\n",
       "      <td>https://uswest.ensembl.org/Homo_sapiens/Transc...</td>\n",
       "    </tr>\n",
       "    <tr>\n",
       "      <th>15</th>\n",
       "      <td>http://purl.obolibrary.org/obo/CHEBI_46024</td>\n",
       "      <td>https://uswest.ensembl.org/Homo_sapiens/Transc...</td>\n",
       "    </tr>\n",
       "    <tr>\n",
       "      <th>16</th>\n",
       "      <td>http://purl.obolibrary.org/obo/CHEBI_46024</td>\n",
       "      <td>https://uswest.ensembl.org/Homo_sapiens/Transc...</td>\n",
       "    </tr>\n",
       "    <tr>\n",
       "      <th>17</th>\n",
       "      <td>http://purl.obolibrary.org/obo/CHEBI_46024</td>\n",
       "      <td>https://uswest.ensembl.org/Homo_sapiens/Transc...</td>\n",
       "    </tr>\n",
       "    <tr>\n",
       "      <th>18</th>\n",
       "      <td>http://purl.obolibrary.org/obo/CHEBI_46024</td>\n",
       "      <td>https://uswest.ensembl.org/Homo_sapiens/Transc...</td>\n",
       "    </tr>\n",
       "    <tr>\n",
       "      <th>19</th>\n",
       "      <td>http://purl.obolibrary.org/obo/CHEBI_46024</td>\n",
       "      <td>https://uswest.ensembl.org/Homo_sapiens/Transc...</td>\n",
       "    </tr>\n",
       "  </tbody>\n",
       "</table>\n",
       "</div>"
      ],
      "text/plain": [
       "                                        node_1  \\\n",
       "0   http://purl.obolibrary.org/obo/CHEBI_46024   \n",
       "1   http://purl.obolibrary.org/obo/CHEBI_46024   \n",
       "2   http://purl.obolibrary.org/obo/CHEBI_46024   \n",
       "3   http://purl.obolibrary.org/obo/CHEBI_46024   \n",
       "4   http://purl.obolibrary.org/obo/CHEBI_46024   \n",
       "5   http://purl.obolibrary.org/obo/CHEBI_46024   \n",
       "6   http://purl.obolibrary.org/obo/CHEBI_46024   \n",
       "7   http://purl.obolibrary.org/obo/CHEBI_46024   \n",
       "8   http://purl.obolibrary.org/obo/CHEBI_46024   \n",
       "9   http://purl.obolibrary.org/obo/CHEBI_46024   \n",
       "10  http://purl.obolibrary.org/obo/CHEBI_46024   \n",
       "11  http://purl.obolibrary.org/obo/CHEBI_46024   \n",
       "12  http://purl.obolibrary.org/obo/CHEBI_46024   \n",
       "13  http://purl.obolibrary.org/obo/CHEBI_46024   \n",
       "14  http://purl.obolibrary.org/obo/CHEBI_46024   \n",
       "15  http://purl.obolibrary.org/obo/CHEBI_46024   \n",
       "16  http://purl.obolibrary.org/obo/CHEBI_46024   \n",
       "17  http://purl.obolibrary.org/obo/CHEBI_46024   \n",
       "18  http://purl.obolibrary.org/obo/CHEBI_46024   \n",
       "19  http://purl.obolibrary.org/obo/CHEBI_46024   \n",
       "\n",
       "                                               node_2  \n",
       "0   https://uswest.ensembl.org/Homo_sapiens/Transc...  \n",
       "1   https://uswest.ensembl.org/Homo_sapiens/Transc...  \n",
       "2   https://uswest.ensembl.org/Homo_sapiens/Transc...  \n",
       "3   https://uswest.ensembl.org/Homo_sapiens/Transc...  \n",
       "4   https://uswest.ensembl.org/Homo_sapiens/Transc...  \n",
       "5   https://uswest.ensembl.org/Homo_sapiens/Transc...  \n",
       "6           http://purl.obolibrary.org/obo/GO_0005741  \n",
       "7   https://uswest.ensembl.org/Homo_sapiens/Transc...  \n",
       "8   https://uswest.ensembl.org/Homo_sapiens/Transc...  \n",
       "9   https://uswest.ensembl.org/Homo_sapiens/Transc...  \n",
       "10  https://uswest.ensembl.org/Homo_sapiens/Transc...  \n",
       "11  https://uswest.ensembl.org/Homo_sapiens/Transc...  \n",
       "12  https://uswest.ensembl.org/Homo_sapiens/Transc...  \n",
       "13  https://uswest.ensembl.org/Homo_sapiens/Transc...  \n",
       "14  https://uswest.ensembl.org/Homo_sapiens/Transc...  \n",
       "15  https://uswest.ensembl.org/Homo_sapiens/Transc...  \n",
       "16  https://uswest.ensembl.org/Homo_sapiens/Transc...  \n",
       "17  https://uswest.ensembl.org/Homo_sapiens/Transc...  \n",
       "18  https://uswest.ensembl.org/Homo_sapiens/Transc...  \n",
       "19  https://uswest.ensembl.org/Homo_sapiens/Transc...  "
      ]
     },
     "execution_count": 38,
     "metadata": {},
     "output_type": "execute_result"
    }
   ],
   "source": [
    "original_g_df_temp.head(20)"
   ]
  },
  {
   "cell_type": "code",
   "execution_count": 88,
   "metadata": {},
   "outputs": [
    {
     "name": "stdout",
     "output_type": "stream",
     "text": [
      "initial_node_count: 10853\n"
     ]
    }
   ],
   "source": [
    "G_orig = nx.from_pandas_edgelist(original_g_df, \"node_1\", \"node_2\", create_using=nx.Graph())\n",
    "initial_node_count = nx.number_of_nodes(G_orig)\n",
    "print('initial_node_count: {}'.format(initial_node_count))"
   ]
  },
  {
   "cell_type": "code",
   "execution_count": 89,
   "metadata": {},
   "outputs": [
    {
     "name": "stdout",
     "output_type": "stream",
     "text": [
      "temp_node_count: 10852\n"
     ]
    }
   ],
   "source": [
    "original_g_df_temp = original_g_df.copy()\n",
    "G_temp = nx.from_pandas_edgelist(original_g_df_temp.drop(2), \"node_1\", \"node_2\", create_using=nx.Graph())\n",
    "temp_node_count = nx.number_of_nodes(G_temp)\n",
    "print('temp_node_count: {}'.format(temp_node_count))"
   ]
  },
  {
   "cell_type": "code",
   "execution_count": 90,
   "metadata": {},
   "outputs": [
    {
     "data": {
      "text/plain": [
       "15524"
      ]
     },
     "execution_count": 90,
     "metadata": {},
     "output_type": "execute_result"
    }
   ],
   "source": [
    "len(original_g_df.index.values)"
   ]
  },
  {
   "cell_type": "code",
   "execution_count": 91,
   "metadata": {},
   "outputs": [],
   "source": [
    "original_g_df_temp = original_g_df.copy()\n",
    "\n",
    "# empty list to store removable links\n",
    "omissible_links_index = []\n",
    "\n",
    "ctr = 0\n",
    "ctr2 = -1\n",
    "for i in original_g_df.index.values:\n",
    "    ctr2 += 1\n",
    "    #if ctr2 == 2000:\n",
    "    #    break\n",
    "    \n",
    "    # remove a node pair and build a new graph\n",
    "    G_temp = nx.from_pandas_edgelist(original_g_df_temp.drop(i), \"node_1\", \"node_2\", create_using=nx.Graph())\n",
    "    # print('graph created')\n",
    "    # print('nx.number_connected_components(G_temp): {}'.format(nx.number_connected_components(G_temp)))\n",
    "     \n",
    "    # print('len(G_temp.nodes): {}'.format(nx.number_of_nodes(G_temp)))\n",
    "    \n",
    "    # check there is no spliting of graph and number of nodes is same\n",
    "    if (nx.number_connected_components(G_temp) == 1) and (nx.number_of_nodes(G_temp) == initial_node_count):\n",
    "    \n",
    "        omissible_links_index.append(i)\n",
    "        original_g_df_temp = original_g_df_temp.drop(index = i)\n",
    "        ctr += 1\n",
    "        print('[info] Count of admissable links: {}'.format(ctr))\n",
    "        if ctr == 1000:\n",
    "            break"
   ]
  },
  {
   "cell_type": "code",
   "execution_count": 84,
   "metadata": {},
   "outputs": [
    {
     "data": {
      "text/plain": [
       "0"
      ]
     },
     "execution_count": 84,
     "metadata": {},
     "output_type": "execute_result"
    }
   ],
   "source": [
    "len(omissible_links_index)"
   ]
  },
  {
   "cell_type": "code",
   "execution_count": null,
   "metadata": {},
   "outputs": [],
   "source": [
    "# create dataframe of removable edges\n",
    "original_g_df_ghost = original_g_df.loc[omissible_links_index]\n",
    "\n",
    "# add the target variable 'link'\n",
    "original_g_df_ghost['link'] = 1\n",
    "\n",
    "# Reduce the dataset containing non-connected nodes to 2K so that there is a 1:2 ratio of connected nodes to non-connected nodes\n",
    "# The reduced dataset is a random sample without replacement\n",
    "data_reduced = data.sample(2000)\n",
    "\n",
    "data_reduced = data_reduced.append(original_g_df_ghost[['node_1', 'node_2', 'link']], ignore_index=True)"
   ]
  },
  {
   "cell_type": "code",
   "execution_count": null,
   "metadata": {},
   "outputs": [],
   "source": [
    "x = [(model[i] + model[j]) for i,j in zip(data_reduced['node_1'], data_reduced['node_2'])]"
   ]
  },
  {
   "cell_type": "code",
   "execution_count": null,
   "metadata": {},
   "outputs": [],
   "source": [
    "xtrain, xtest, ytrain, ytest = train_test_split(np.array(x), \n",
    "                                                data_reduced['link'], \n",
    "                                                test_size = 0.3, \n",
    "                                                random_state = 35)"
   ]
  },
  {
   "cell_type": "code",
   "execution_count": null,
   "metadata": {},
   "outputs": [],
   "source": [
    "lr = LogisticRegression(class_weight=\"balanced\")\n",
    "lr.fit(xtrain, ytrain)"
   ]
  },
  {
   "cell_type": "code",
   "execution_count": null,
   "metadata": {},
   "outputs": [],
   "source": [
    "predictions = lr.predict_proba(xtest)"
   ]
  },
  {
   "cell_type": "code",
   "execution_count": null,
   "metadata": {},
   "outputs": [],
   "source": [
    "roc_auc_score(ytest, predictions[:,1])"
   ]
  },
  {
   "cell_type": "code",
   "execution_count": null,
   "metadata": {},
   "outputs": [],
   "source": []
  },
  {
   "cell_type": "code",
   "execution_count": null,
   "metadata": {},
   "outputs": [],
   "source": []
  },
  {
   "cell_type": "code",
   "execution_count": null,
   "metadata": {},
   "outputs": [],
   "source": [
    "G_karate = nx.karate_club_graph()"
   ]
  },
  {
   "cell_type": "code",
   "execution_count": null,
   "metadata": {},
   "outputs": [],
   "source": [
    "np_g = nx.to_numpy_matrix(G_karate)\n",
    "print(np_g)\n",
    "print(np_g.shape)"
   ]
  },
  {
   "cell_type": "code",
   "execution_count": null,
   "metadata": {},
   "outputs": [],
   "source": [
    "import matplotlib.pyplot as plt\n",
    "pos = nx.spring_layout(G_karate)"
   ]
  },
  {
   "cell_type": "code",
   "execution_count": null,
   "metadata": {},
   "outputs": [],
   "source": [
    "nx.draw(G_karate, cmap = plt.get_cmap('rainbow'), with_labels=True, pos=pos)"
   ]
  },
  {
   "cell_type": "code",
   "execution_count": null,
   "metadata": {},
   "outputs": [],
   "source": [
    "from node2vec import Node2Vec"
   ]
  },
  {
   "cell_type": "code",
   "execution_count": null,
   "metadata": {},
   "outputs": [],
   "source": []
  },
  {
   "cell_type": "code",
   "execution_count": null,
   "metadata": {},
   "outputs": [],
   "source": []
  },
  {
   "cell_type": "code",
   "execution_count": null,
   "metadata": {},
   "outputs": [],
   "source": [
    "from scipy.special import softmax"
   ]
  },
  {
   "cell_type": "code",
   "execution_count": null,
   "metadata": {},
   "outputs": [],
   "source": [
    "import importlib.util\n",
    "spec = importlib.util.spec_from_file_location(\"scipy\", \"/ihome/rboyce/rdb20/.virtualenvs/bionf2071/lib/python3.7/site-packages/scipy/__init__.py\")\n",
    "foo = importlib.util.module_from_spec(spec)\n",
    "sys.modules[spec.name] = foo \n",
    "spec.loader.exec_module(foo)"
   ]
  },
  {
   "cell_type": "code",
   "execution_count": null,
   "metadata": {},
   "outputs": [],
   "source": [
    "import matplotlib.pyplot as plt\n",
    "from math import isclose\n",
    "from sklearn.decomposition import PCA\n",
    "import os\n",
    "import networkx as nx\n",
    "import numpy as np\n",
    "import pandas as pd\n",
    "from scipy.special import softmax\n",
    "from stellargraph import StellarGraph, datasets\n",
    "from stellargraph.data import EdgeSplitter\n",
    "from collections import Counter\n",
    "import multiprocessing\n",
    "from IPython.display import display, HTML\n",
    "from sklearn.model_selection import train_test_split\n",
    "\n",
    "%matplotlib inline"
   ]
  },
  {
   "cell_type": "code",
   "execution_count": null,
   "metadata": {},
   "outputs": [],
   "source": [
    "dataset = datasets.Cora()\n",
    "display(HTML(dataset.description))\n",
    "graph, _ = dataset.load(largest_connected_component_only=True, str_node_ids=True)"
   ]
  },
  {
   "cell_type": "markdown",
   "metadata": {},
   "source": [
    "The Cora dataset consists of 2708 scientific publications classified into one of seven classes. The citation network consists of 5429 links. Each publication in the dataset is described by a 0/1-valued word vector indicating the absence/presence of the corresponding word from the dictionary. The dictionary consists of 1433 unique words."
   ]
  },
  {
   "cell_type": "code",
   "execution_count": null,
   "metadata": {},
   "outputs": [],
   "source": [
    "# Define an edge splitter on the original graph:\n",
    "edge_splitter_test = EdgeSplitter(graph)\n",
    "\n",
    "# Randomly sample a fraction p=0.1 of all positive links, and same number of negative links, from graph, and obtain the\n",
    "# reduced graph graph_test with the sampled links removed:\n",
    "graph_test, examples_test, labels_test = edge_splitter_test.train_test_split(\n",
    "    p=0.1, method=\"global\"\n",
    ")\n",
    "\n",
    "print(graph_test.info())"
   ]
  },
  {
   "cell_type": "code",
   "execution_count": null,
   "metadata": {},
   "outputs": [],
   "source": [
    "# Do the same process to compute a training subset from within the test graph\n",
    "edge_splitter_train = EdgeSplitter(graph_test, graph)\n",
    "graph_train, examples, labels = edge_splitter_train.train_test_split(\n",
    "    p=0.1, method=\"global\"\n",
    ")\n",
    "(\n",
    "    examples_train,\n",
    "    examples_model_selection,\n",
    "    labels_train,\n",
    "    labels_model_selection,\n",
    ") = train_test_split(examples, labels, train_size=0.75, test_size=0.25)\n",
    "\n",
    "print(graph_train.info())"
   ]
  },
  {
   "cell_type": "code",
   "execution_count": null,
   "metadata": {},
   "outputs": [],
   "source": []
  },
  {
   "cell_type": "markdown",
   "metadata": {},
   "source": [
    "## Node2Vec\n",
    "\n",
    "We use Node2Vec [[1]](#refs), to calculate node embeddings. These embeddings are learned in such a way to ensure that nodes that are close in the graph remain close in the embedding space. Node2Vec first involves running random walks on the graph to obtain our context pairs, and using these to train a Word2Vec model.\n",
    "\n",
    "These are the set of parameters we can use:\n",
    "\n",
    "* `p` - Random walk parameter \"p\"\n",
    "* `q` - Random walk parameter \"q\"\n",
    "* `dimensions` - Dimensionality of node2vec embeddings\n",
    "* `num_walks` - Number of walks from each node\n",
    "* `walk_length` - Length of each random walk\n",
    "* `window_size` - Context window size for Word2Vec\n",
    "* `num_iter` - number of SGD iterations (epochs)\n",
    "* `workers` - Number of workers for Word2Vec"
   ]
  },
  {
   "cell_type": "code",
   "execution_count": null,
   "metadata": {},
   "outputs": [],
   "source": [
    "p = 1.0\n",
    "q = 1.0\n",
    "dimensions = 128\n",
    "num_walks = 10\n",
    "walk_length = 80\n",
    "window_size = 10\n",
    "num_iter = 1\n",
    "workers = multiprocessing.cpu_count()"
   ]
  },
  {
   "cell_type": "code",
   "execution_count": null,
   "metadata": {},
   "outputs": [],
   "source": [
    "from stellargraph.data import BiasedRandomWalk\n",
    "from gensim.models import Word2Vec\n",
    "\n",
    "\n",
    "def node2vec_embedding(graph, name):\n",
    "    rw = BiasedRandomWalk(graph)\n",
    "    walks = rw.run(graph.nodes(), n=num_walks, length=walk_length, p=p, q=q)\n",
    "    print(f\"Number of random walks for '{name}': {len(walks)}\")\n",
    "\n",
    "    model = Word2Vec(\n",
    "        walks,\n",
    "        size=dimensions,\n",
    "        window=window_size,\n",
    "        min_count=0,\n",
    "        sg=1,\n",
    "        workers=workers,\n",
    "        iter=num_iter,\n",
    "    )\n",
    "\n",
    "    def get_embedding(u):\n",
    "        return model.wv[u]\n",
    "\n",
    "    return get_embedding"
   ]
  },
  {
   "cell_type": "code",
   "execution_count": null,
   "metadata": {},
   "outputs": [],
   "source": [
    "##takes about 5 mins for ~500 edges\n",
    "embedding_train = node2vec_embedding(graph_train, \"Train Graph\")"
   ]
  },
  {
   "cell_type": "markdown",
   "metadata": {},
   "source": [
    "## Train the link prediction model\n",
    "\n",
    "There are a few steps involved in using the model to perform link prediction:\n",
    "1. We calculate link/edge embeddings for the positive and negative edge samples by applying a binary operator on the embeddings of the source and target nodes of each sampled edge.\n",
    "2. Given the embeddings of the positive and negative examples, we train a logistic regression classifier to predict the probability indicating whether an edge between two nodes should exist or not.\n",
    "3. To use the embeddings in a traditional machine learning classifier, we use binary operators on the embeddings such as average, Hadamard, L1, L2. Here we use the 'average operator' with node embeddings in the logistic regression classifier.\n"
   ]
  },
  {
   "cell_type": "code",
   "execution_count": null,
   "metadata": {},
   "outputs": [],
   "source": [
    "from sklearn.pipeline import Pipeline\n",
    "from sklearn.linear_model import LogisticRegressionCV\n",
    "from sklearn.preprocessing import StandardScaler\n",
    "\n",
    "#0. define average function\n",
    "def average_operator(u, v):\n",
    "    return (u + v) / 2.0\n",
    "\n",
    "# 1. link embeddings\n",
    "def link_examples_to_features(link_examples, transform_node):\n",
    "    return [\n",
    "        average_operator(transform_node(src), transform_node(dst))\n",
    "        for src, dst in link_examples\n",
    "    ]\n",
    "\n",
    "\n",
    "# 2. training classifier\n",
    "def train_link_prediction_model(\n",
    "    link_examples, link_labels, get_embedding):\n",
    "    clf = link_prediction_classifier()\n",
    "    link_features = link_examples_to_features(link_examples, get_embedding)\n",
    "    clf.fit(link_features, link_labels)\n",
    "    return clf\n",
    "\n",
    "\n",
    "def link_prediction_classifier(max_iter=2000):\n",
    "    lr_clf = LogisticRegressionCV(Cs=10, cv=10, scoring=\"roc_auc\", max_iter=max_iter)\n",
    "    return Pipeline(steps=[(\"sc\", StandardScaler()), (\"clf\", lr_clf)])\n",
    "\n",
    "\n",
    "# 3. return predicted probabilities\n",
    "def evaluate_link_prediction_model(clf, link_examples_test, link_labels_test, get_embedding):\n",
    "    link_features_test = link_examples_to_features(link_examples_test, get_embedding)\n",
    "    predicted = clf.predict_proba(link_features_test)\n",
    "    return predicted\n"
   ]
  },
  {
   "cell_type": "code",
   "execution_count": null,
   "metadata": {},
   "outputs": [],
   "source": [
    "def run_link_prediction():\n",
    "    clf = train_link_prediction_model(\n",
    "        examples_train, labels_train, embedding_train, average_operator\n",
    "    )\n",
    "    predicted = evaluate_link_prediction_model(clf,\n",
    "                                           examples_model_selection,\n",
    "                                           labels_model_selection,\n",
    "                                           embedding_train)\n",
    "\n",
    "    return predicted"
   ]
  },
  {
   "cell_type": "code",
   "execution_count": null,
   "metadata": {},
   "outputs": [],
   "source": [
    "#Train model - time taken: <1 min\n",
    "clf = train_link_prediction_model(examples_train, labels_train, embedding_train)"
   ]
  },
  {
   "cell_type": "code",
   "execution_count": null,
   "metadata": {},
   "outputs": [],
   "source": [
    "#Create embeddings of test graph\n",
    "#Time taken= ~5mins\n",
    "embedding_test = node2vec_embedding(graph_test, \"Test Graph\")"
   ]
  },
  {
   "cell_type": "code",
   "execution_count": null,
   "metadata": {},
   "outputs": [],
   "source": [
    "#Get predicted probabilities of test set\n",
    "predicted = evaluate_link_prediction_model(clf, examples_test, labels_test, embedding_test)"
   ]
  },
  {
   "cell_type": "code",
   "execution_count": null,
   "metadata": {},
   "outputs": [],
   "source": [
    "examples_test"
   ]
  },
  {
   "cell_type": "code",
   "execution_count": null,
   "metadata": {},
   "outputs": [],
   "source": [
    "labels_test"
   ]
  },
  {
   "cell_type": "code",
   "execution_count": null,
   "metadata": {},
   "outputs": [],
   "source": [
    "predicted[:,1]"
   ]
  }
 ],
 "metadata": {
  "kernelspec": {
   "display_name": "bionf2071",
   "language": "python",
   "name": "bionf2071"
  },
  "language_info": {
   "codemirror_mode": {
    "name": "ipython",
    "version": 3
   },
   "file_extension": ".py",
   "mimetype": "text/x-python",
   "name": "python",
   "nbconvert_exporter": "python",
   "pygments_lexer": "ipython3",
   "version": "3.7.9"
  }
 },
 "nbformat": 4,
 "nbformat_minor": 4
}
